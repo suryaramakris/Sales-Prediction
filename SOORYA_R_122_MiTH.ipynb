{
 "cells": [
  {
   "cell_type": "markdown",
   "id": "05b95061",
   "metadata": {},
   "source": [
    "# <center>Predicting Sales</center>\n",
    "<a><b>Problem Statement</b> -- Predicting the sales of products across stores of a retail chain\n",
    "A large Indian retail chain has stores across 3 states in India: Maharashtra, Telangana and \n",
    "Kerala. These stores stock products across various categories such as FMCG (fast moving \n",
    "consumer goods), eatables / perishables and others. Managing the inventory is crucial for \n",
    "the revenue stream of the retail chain. Meeting the demand is important to not lose \n",
    "potential revenue, while at the same time stocking excessive products could lead to losses.</a> \n",
    "\n",
    "<a>The datasets are provided as cited below: <br>\n",
    "<b>Target attribute:</b> \"sales\" (continuous)<br>\n",
    "train_data.csv:<br>\n",
    "! date : The date for which the observation was recorded\n",
    "! product_identifier : The id for a product<br>\n",
    "! department_identifier : The id for a specific department in a store<br>\n",
    "! category_of_product : The category to which a product belongs <br>\n",
    "! outlet : The id for a store <br>\n",
    "! state : The name of the state <br>\n",
    "! sales : The number of sales for the product <br>\n",
    "<b>product_prices.csv:</b> The prices of products at each store for each week<br>\n",
    "! date_to_week_id_map.csv : The mapping from a date to the week_id<br>\n",
    "! sample_submission.csv : The format for submissions<br>\n",
    "<b>● The test_data.csv file has all the attributes of the train_data.csv file excluding the sales (target) column</b></a>"
   ]
  },
  {
   "cell_type": "code",
   "execution_count": 1,
   "id": "b89533ae",
   "metadata": {},
   "outputs": [],
   "source": [
    "#Importing required libraries\n",
    "import pandas as pd\n",
    "import numpy as np\n",
    "import matplotlib.pyplot as plt\n",
    "import seaborn as sns\n",
    "from sklearn.preprocessing import LabelEncoder\n",
    "from sklearn.model_selection import train_test_split\n",
    "from sklearn.tree import DecisionTreeRegressor\n",
    "from sklearn.ensemble import RandomForestRegressor, GradientBoostingClassifier\n",
    "from sklearn.svm import SVR\n",
    "\n",
    "from statsmodels.stats.outliers_influence import variance_inflation_factor\n",
    "from sklearn.metrics import mean_squared_error, r2_score\n",
    "\n",
    "import warnings\n",
    "warnings.filterwarnings(\"ignore\")"
   ]
  },
  {
   "cell_type": "code",
   "execution_count": 2,
   "id": "89f5a08f",
   "metadata": {},
   "outputs": [],
   "source": [
    "df_train = pd.read_csv('train_data.csv')\n",
    "df_pp = pd.read_csv('product_prices.csv')\n",
    "df_dw = pd.read_csv('date_to_week_id_map.csv')"
   ]
  },
  {
   "cell_type": "code",
   "execution_count": 3,
   "id": "7538c757",
   "metadata": {},
   "outputs": [
    {
     "data": {
      "text/html": [
       "<div>\n",
       "<style scoped>\n",
       "    .dataframe tbody tr th:only-of-type {\n",
       "        vertical-align: middle;\n",
       "    }\n",
       "\n",
       "    .dataframe tbody tr th {\n",
       "        vertical-align: top;\n",
       "    }\n",
       "\n",
       "    .dataframe thead th {\n",
       "        text-align: right;\n",
       "    }\n",
       "</style>\n",
       "<table border=\"1\" class=\"dataframe\">\n",
       "  <thead>\n",
       "    <tr style=\"text-align: right;\">\n",
       "      <th></th>\n",
       "      <th>date</th>\n",
       "      <th>product_identifier</th>\n",
       "      <th>department_identifier</th>\n",
       "      <th>category_of_product</th>\n",
       "      <th>outlet</th>\n",
       "      <th>state</th>\n",
       "      <th>sales</th>\n",
       "    </tr>\n",
       "  </thead>\n",
       "  <tbody>\n",
       "    <tr>\n",
       "      <th>0</th>\n",
       "      <td>2012-01-01</td>\n",
       "      <td>74</td>\n",
       "      <td>11</td>\n",
       "      <td>others</td>\n",
       "      <td>111</td>\n",
       "      <td>Maharashtra</td>\n",
       "      <td>0</td>\n",
       "    </tr>\n",
       "    <tr>\n",
       "      <th>1</th>\n",
       "      <td>2012-01-01</td>\n",
       "      <td>337</td>\n",
       "      <td>11</td>\n",
       "      <td>others</td>\n",
       "      <td>111</td>\n",
       "      <td>Maharashtra</td>\n",
       "      <td>1</td>\n",
       "    </tr>\n",
       "    <tr>\n",
       "      <th>2</th>\n",
       "      <td>2012-01-01</td>\n",
       "      <td>423</td>\n",
       "      <td>12</td>\n",
       "      <td>others</td>\n",
       "      <td>111</td>\n",
       "      <td>Maharashtra</td>\n",
       "      <td>0</td>\n",
       "    </tr>\n",
       "    <tr>\n",
       "      <th>3</th>\n",
       "      <td>2012-01-01</td>\n",
       "      <td>432</td>\n",
       "      <td>12</td>\n",
       "      <td>others</td>\n",
       "      <td>111</td>\n",
       "      <td>Maharashtra</td>\n",
       "      <td>0</td>\n",
       "    </tr>\n",
       "    <tr>\n",
       "      <th>4</th>\n",
       "      <td>2012-01-01</td>\n",
       "      <td>581</td>\n",
       "      <td>21</td>\n",
       "      <td>fast_moving_consumer_goods</td>\n",
       "      <td>111</td>\n",
       "      <td>Maharashtra</td>\n",
       "      <td>0</td>\n",
       "    </tr>\n",
       "  </tbody>\n",
       "</table>\n",
       "</div>"
      ],
      "text/plain": [
       "         date  product_identifier  department_identifier  \\\n",
       "0  2012-01-01                  74                     11   \n",
       "1  2012-01-01                 337                     11   \n",
       "2  2012-01-01                 423                     12   \n",
       "3  2012-01-01                 432                     12   \n",
       "4  2012-01-01                 581                     21   \n",
       "\n",
       "          category_of_product  outlet        state  sales  \n",
       "0                      others     111  Maharashtra      0  \n",
       "1                      others     111  Maharashtra      1  \n",
       "2                      others     111  Maharashtra      0  \n",
       "3                      others     111  Maharashtra      0  \n",
       "4  fast_moving_consumer_goods     111  Maharashtra      0  "
      ]
     },
     "execution_count": 3,
     "metadata": {},
     "output_type": "execute_result"
    }
   ],
   "source": [
    "df_train.head()"
   ]
  },
  {
   "cell_type": "code",
   "execution_count": 6,
   "id": "40020950",
   "metadata": {},
   "outputs": [
    {
     "data": {
      "text/html": [
       "<div>\n",
       "<style scoped>\n",
       "    .dataframe tbody tr th:only-of-type {\n",
       "        vertical-align: middle;\n",
       "    }\n",
       "\n",
       "    .dataframe tbody tr th {\n",
       "        vertical-align: top;\n",
       "    }\n",
       "\n",
       "    .dataframe thead th {\n",
       "        text-align: right;\n",
       "    }\n",
       "</style>\n",
       "<table border=\"1\" class=\"dataframe\">\n",
       "  <thead>\n",
       "    <tr style=\"text-align: right;\">\n",
       "      <th></th>\n",
       "      <th>date</th>\n",
       "      <th>week_id</th>\n",
       "      <th>outlet</th>\n",
       "      <th>product_identifier</th>\n",
       "      <th>sell_price</th>\n",
       "    </tr>\n",
       "  </thead>\n",
       "  <tbody>\n",
       "    <tr>\n",
       "      <th>0</th>\n",
       "      <td>2012-01-01</td>\n",
       "      <td>49</td>\n",
       "      <td>111</td>\n",
       "      <td>74</td>\n",
       "      <td>2.94</td>\n",
       "    </tr>\n",
       "    <tr>\n",
       "      <th>1</th>\n",
       "      <td>2012-01-01</td>\n",
       "      <td>49</td>\n",
       "      <td>111</td>\n",
       "      <td>337</td>\n",
       "      <td>7.44</td>\n",
       "    </tr>\n",
       "    <tr>\n",
       "      <th>2</th>\n",
       "      <td>2012-01-01</td>\n",
       "      <td>49</td>\n",
       "      <td>111</td>\n",
       "      <td>423</td>\n",
       "      <td>0.97</td>\n",
       "    </tr>\n",
       "    <tr>\n",
       "      <th>3</th>\n",
       "      <td>2012-01-01</td>\n",
       "      <td>49</td>\n",
       "      <td>111</td>\n",
       "      <td>432</td>\n",
       "      <td>4.97</td>\n",
       "    </tr>\n",
       "    <tr>\n",
       "      <th>4</th>\n",
       "      <td>2012-01-01</td>\n",
       "      <td>49</td>\n",
       "      <td>111</td>\n",
       "      <td>581</td>\n",
       "      <td>4.88</td>\n",
       "    </tr>\n",
       "  </tbody>\n",
       "</table>\n",
       "</div>"
      ],
      "text/plain": [
       "         date  week_id  outlet  product_identifier  sell_price\n",
       "0  2012-01-01       49     111                  74        2.94\n",
       "1  2012-01-01       49     111                 337        7.44\n",
       "2  2012-01-01       49     111                 423        0.97\n",
       "3  2012-01-01       49     111                 432        4.97\n",
       "4  2012-01-01       49     111                 581        4.88"
      ]
     },
     "execution_count": 6,
     "metadata": {},
     "output_type": "execute_result"
    }
   ],
   "source": [
    "df_temp = df_dw.merge(df_pp, on = \"week_id\", how = \"inner\")\n",
    "df_temp.head()"
   ]
  },
  {
   "cell_type": "code",
   "execution_count": 7,
   "id": "60149054",
   "metadata": {},
   "outputs": [
    {
     "data": {
      "text/plain": [
       "(410500, 5)"
      ]
     },
     "execution_count": 7,
     "metadata": {},
     "output_type": "execute_result"
    }
   ],
   "source": [
    "df_temp.shape"
   ]
  },
  {
   "cell_type": "code",
   "execution_count": 8,
   "id": "3e393606",
   "metadata": {},
   "outputs": [
    {
     "data": {
      "text/html": [
       "<div>\n",
       "<style scoped>\n",
       "    .dataframe tbody tr th:only-of-type {\n",
       "        vertical-align: middle;\n",
       "    }\n",
       "\n",
       "    .dataframe tbody tr th {\n",
       "        vertical-align: top;\n",
       "    }\n",
       "\n",
       "    .dataframe thead th {\n",
       "        text-align: right;\n",
       "    }\n",
       "</style>\n",
       "<table border=\"1\" class=\"dataframe\">\n",
       "  <thead>\n",
       "    <tr style=\"text-align: right;\">\n",
       "      <th></th>\n",
       "      <th>date</th>\n",
       "      <th>product_identifier</th>\n",
       "      <th>department_identifier</th>\n",
       "      <th>category_of_product</th>\n",
       "      <th>outlet</th>\n",
       "      <th>state</th>\n",
       "      <th>sales</th>\n",
       "      <th>week_id</th>\n",
       "      <th>sell_price</th>\n",
       "    </tr>\n",
       "  </thead>\n",
       "  <tbody>\n",
       "    <tr>\n",
       "      <th>0</th>\n",
       "      <td>2012-01-01</td>\n",
       "      <td>74</td>\n",
       "      <td>11</td>\n",
       "      <td>others</td>\n",
       "      <td>111</td>\n",
       "      <td>Maharashtra</td>\n",
       "      <td>0</td>\n",
       "      <td>49</td>\n",
       "      <td>2.94</td>\n",
       "    </tr>\n",
       "    <tr>\n",
       "      <th>1</th>\n",
       "      <td>2012-01-01</td>\n",
       "      <td>337</td>\n",
       "      <td>11</td>\n",
       "      <td>others</td>\n",
       "      <td>111</td>\n",
       "      <td>Maharashtra</td>\n",
       "      <td>1</td>\n",
       "      <td>49</td>\n",
       "      <td>7.44</td>\n",
       "    </tr>\n",
       "    <tr>\n",
       "      <th>2</th>\n",
       "      <td>2012-01-01</td>\n",
       "      <td>423</td>\n",
       "      <td>12</td>\n",
       "      <td>others</td>\n",
       "      <td>111</td>\n",
       "      <td>Maharashtra</td>\n",
       "      <td>0</td>\n",
       "      <td>49</td>\n",
       "      <td>0.97</td>\n",
       "    </tr>\n",
       "    <tr>\n",
       "      <th>3</th>\n",
       "      <td>2012-01-01</td>\n",
       "      <td>432</td>\n",
       "      <td>12</td>\n",
       "      <td>others</td>\n",
       "      <td>111</td>\n",
       "      <td>Maharashtra</td>\n",
       "      <td>0</td>\n",
       "      <td>49</td>\n",
       "      <td>4.97</td>\n",
       "    </tr>\n",
       "    <tr>\n",
       "      <th>4</th>\n",
       "      <td>2012-01-01</td>\n",
       "      <td>581</td>\n",
       "      <td>21</td>\n",
       "      <td>fast_moving_consumer_goods</td>\n",
       "      <td>111</td>\n",
       "      <td>Maharashtra</td>\n",
       "      <td>0</td>\n",
       "      <td>49</td>\n",
       "      <td>4.88</td>\n",
       "    </tr>\n",
       "  </tbody>\n",
       "</table>\n",
       "</div>"
      ],
      "text/plain": [
       "         date  product_identifier  department_identifier  \\\n",
       "0  2012-01-01                  74                     11   \n",
       "1  2012-01-01                 337                     11   \n",
       "2  2012-01-01                 423                     12   \n",
       "3  2012-01-01                 432                     12   \n",
       "4  2012-01-01                 581                     21   \n",
       "\n",
       "          category_of_product  outlet        state  sales  week_id  sell_price  \n",
       "0                      others     111  Maharashtra      0       49        2.94  \n",
       "1                      others     111  Maharashtra      1       49        7.44  \n",
       "2                      others     111  Maharashtra      0       49        0.97  \n",
       "3                      others     111  Maharashtra      0       49        4.97  \n",
       "4  fast_moving_consumer_goods     111  Maharashtra      0       49        4.88  "
      ]
     },
     "execution_count": 8,
     "metadata": {},
     "output_type": "execute_result"
    }
   ],
   "source": [
    "df=pd.merge(df_train, df_temp, on =['date','product_identifier','outlet'],how = \"inner\")\n",
    "df.head()"
   ]
  },
  {
   "cell_type": "code",
   "execution_count": 9,
   "id": "1f99d12d",
   "metadata": {},
   "outputs": [
    {
     "data": {
      "text/plain": [
       "(395000, 9)"
      ]
     },
     "execution_count": 9,
     "metadata": {},
     "output_type": "execute_result"
    }
   ],
   "source": [
    "df.shape"
   ]
  },
  {
   "cell_type": "markdown",
   "id": "11effa99",
   "metadata": {},
   "source": [
    "# <center>checking for null values</center>"
   ]
  },
  {
   "cell_type": "code",
   "execution_count": 10,
   "id": "00d2790e",
   "metadata": {},
   "outputs": [
    {
     "data": {
      "text/plain": [
       "0"
      ]
     },
     "execution_count": 10,
     "metadata": {},
     "output_type": "execute_result"
    }
   ],
   "source": [
    "df.isnull().sum().sum()"
   ]
  },
  {
   "cell_type": "markdown",
   "id": "e79d3c47",
   "metadata": {},
   "source": [
    "# <center>checking for duplicates</center>"
   ]
  },
  {
   "cell_type": "code",
   "execution_count": 11,
   "id": "b5d2e408",
   "metadata": {},
   "outputs": [
    {
     "data": {
      "text/plain": [
       "0"
      ]
     },
     "execution_count": 11,
     "metadata": {},
     "output_type": "execute_result"
    }
   ],
   "source": [
    "df.duplicated().sum()"
   ]
  },
  {
   "cell_type": "code",
   "execution_count": 12,
   "id": "d678ad2d",
   "metadata": {},
   "outputs": [
    {
     "name": "stdout",
     "output_type": "stream",
     "text": [
      "<class 'pandas.core.frame.DataFrame'>\n",
      "Int64Index: 395000 entries, 0 to 394999\n",
      "Data columns (total 9 columns):\n",
      " #   Column                 Non-Null Count   Dtype  \n",
      "---  ------                 --------------   -----  \n",
      " 0   date                   395000 non-null  object \n",
      " 1   product_identifier     395000 non-null  int64  \n",
      " 2   department_identifier  395000 non-null  int64  \n",
      " 3   category_of_product    395000 non-null  object \n",
      " 4   outlet                 395000 non-null  int64  \n",
      " 5   state                  395000 non-null  object \n",
      " 6   sales                  395000 non-null  int64  \n",
      " 7   week_id                395000 non-null  int64  \n",
      " 8   sell_price             395000 non-null  float64\n",
      "dtypes: float64(1), int64(5), object(3)\n",
      "memory usage: 30.1+ MB\n"
     ]
    }
   ],
   "source": [
    "df.info()"
   ]
  },
  {
   "cell_type": "code",
   "execution_count": 13,
   "id": "1d019b1b",
   "metadata": {},
   "outputs": [
    {
     "data": {
      "text/html": [
       "<div>\n",
       "<style scoped>\n",
       "    .dataframe tbody tr th:only-of-type {\n",
       "        vertical-align: middle;\n",
       "    }\n",
       "\n",
       "    .dataframe tbody tr th {\n",
       "        vertical-align: top;\n",
       "    }\n",
       "\n",
       "    .dataframe thead th {\n",
       "        text-align: right;\n",
       "    }\n",
       "</style>\n",
       "<table border=\"1\" class=\"dataframe\">\n",
       "  <thead>\n",
       "    <tr style=\"text-align: right;\">\n",
       "      <th></th>\n",
       "      <th>date</th>\n",
       "      <th>product_identifier</th>\n",
       "      <th>department_identifier</th>\n",
       "      <th>category_of_product</th>\n",
       "      <th>outlet</th>\n",
       "      <th>state</th>\n",
       "      <th>sales</th>\n",
       "      <th>week_id</th>\n",
       "      <th>sell_price</th>\n",
       "    </tr>\n",
       "  </thead>\n",
       "  <tbody>\n",
       "    <tr>\n",
       "      <th>count</th>\n",
       "      <td>395000</td>\n",
       "      <td>395000.000000</td>\n",
       "      <td>395000.000000</td>\n",
       "      <td>395000</td>\n",
       "      <td>395000.000000</td>\n",
       "      <td>395000</td>\n",
       "      <td>395000.000000</td>\n",
       "      <td>395000.000000</td>\n",
       "      <td>395000.000000</td>\n",
       "    </tr>\n",
       "    <tr>\n",
       "      <th>unique</th>\n",
       "      <td>790</td>\n",
       "      <td>NaN</td>\n",
       "      <td>NaN</td>\n",
       "      <td>3</td>\n",
       "      <td>NaN</td>\n",
       "      <td>3</td>\n",
       "      <td>NaN</td>\n",
       "      <td>NaN</td>\n",
       "      <td>NaN</td>\n",
       "    </tr>\n",
       "    <tr>\n",
       "      <th>top</th>\n",
       "      <td>2012-01-01</td>\n",
       "      <td>NaN</td>\n",
       "      <td>NaN</td>\n",
       "      <td>fast_moving_consumer_goods</td>\n",
       "      <td>NaN</td>\n",
       "      <td>Maharashtra</td>\n",
       "      <td>NaN</td>\n",
       "      <td>NaN</td>\n",
       "      <td>NaN</td>\n",
       "    </tr>\n",
       "    <tr>\n",
       "      <th>freq</th>\n",
       "      <td>500</td>\n",
       "      <td>NaN</td>\n",
       "      <td>NaN</td>\n",
       "      <td>229100</td>\n",
       "      <td>NaN</td>\n",
       "      <td>158000</td>\n",
       "      <td>NaN</td>\n",
       "      <td>NaN</td>\n",
       "      <td>NaN</td>\n",
       "    </tr>\n",
       "    <tr>\n",
       "      <th>mean</th>\n",
       "      <td>NaN</td>\n",
       "      <td>1509.960000</td>\n",
       "      <td>24.460000</td>\n",
       "      <td>NaN</td>\n",
       "      <td>211.200000</td>\n",
       "      <td>NaN</td>\n",
       "      <td>1.228919</td>\n",
       "      <td>105.070886</td>\n",
       "      <td>4.987644</td>\n",
       "    </tr>\n",
       "    <tr>\n",
       "      <th>std</th>\n",
       "      <td>NaN</td>\n",
       "      <td>809.799518</td>\n",
       "      <td>6.337863</td>\n",
       "      <td>NaN</td>\n",
       "      <td>91.161291</td>\n",
       "      <td>NaN</td>\n",
       "      <td>3.595266</td>\n",
       "      <td>32.578749</td>\n",
       "      <td>3.874444</td>\n",
       "    </tr>\n",
       "    <tr>\n",
       "      <th>min</th>\n",
       "      <td>NaN</td>\n",
       "      <td>74.000000</td>\n",
       "      <td>11.000000</td>\n",
       "      <td>NaN</td>\n",
       "      <td>111.000000</td>\n",
       "      <td>NaN</td>\n",
       "      <td>0.000000</td>\n",
       "      <td>49.000000</td>\n",
       "      <td>0.050000</td>\n",
       "    </tr>\n",
       "    <tr>\n",
       "      <th>25%</th>\n",
       "      <td>NaN</td>\n",
       "      <td>926.000000</td>\n",
       "      <td>21.000000</td>\n",
       "      <td>NaN</td>\n",
       "      <td>113.000000</td>\n",
       "      <td>NaN</td>\n",
       "      <td>0.000000</td>\n",
       "      <td>77.000000</td>\n",
       "      <td>2.680000</td>\n",
       "    </tr>\n",
       "    <tr>\n",
       "      <th>50%</th>\n",
       "      <td>NaN</td>\n",
       "      <td>1325.000000</td>\n",
       "      <td>22.000000</td>\n",
       "      <td>NaN</td>\n",
       "      <td>221.500000</td>\n",
       "      <td>NaN</td>\n",
       "      <td>0.000000</td>\n",
       "      <td>105.000000</td>\n",
       "      <td>3.980000</td>\n",
       "    </tr>\n",
       "    <tr>\n",
       "      <th>75%</th>\n",
       "      <td>NaN</td>\n",
       "      <td>1753.000000</td>\n",
       "      <td>31.000000</td>\n",
       "      <td>NaN</td>\n",
       "      <td>331.000000</td>\n",
       "      <td>NaN</td>\n",
       "      <td>1.000000</td>\n",
       "      <td>133.000000</td>\n",
       "      <td>6.480000</td>\n",
       "    </tr>\n",
       "    <tr>\n",
       "      <th>max</th>\n",
       "      <td>NaN</td>\n",
       "      <td>3021.000000</td>\n",
       "      <td>33.000000</td>\n",
       "      <td>NaN</td>\n",
       "      <td>333.000000</td>\n",
       "      <td>NaN</td>\n",
       "      <td>293.000000</td>\n",
       "      <td>161.000000</td>\n",
       "      <td>44.360000</td>\n",
       "    </tr>\n",
       "  </tbody>\n",
       "</table>\n",
       "</div>"
      ],
      "text/plain": [
       "              date  product_identifier  department_identifier  \\\n",
       "count       395000       395000.000000          395000.000000   \n",
       "unique         790                 NaN                    NaN   \n",
       "top     2012-01-01                 NaN                    NaN   \n",
       "freq           500                 NaN                    NaN   \n",
       "mean           NaN         1509.960000              24.460000   \n",
       "std            NaN          809.799518               6.337863   \n",
       "min            NaN           74.000000              11.000000   \n",
       "25%            NaN          926.000000              21.000000   \n",
       "50%            NaN         1325.000000              22.000000   \n",
       "75%            NaN         1753.000000              31.000000   \n",
       "max            NaN         3021.000000              33.000000   \n",
       "\n",
       "               category_of_product         outlet        state          sales  \\\n",
       "count                       395000  395000.000000       395000  395000.000000   \n",
       "unique                           3            NaN            3            NaN   \n",
       "top     fast_moving_consumer_goods            NaN  Maharashtra            NaN   \n",
       "freq                        229100            NaN       158000            NaN   \n",
       "mean                           NaN     211.200000          NaN       1.228919   \n",
       "std                            NaN      91.161291          NaN       3.595266   \n",
       "min                            NaN     111.000000          NaN       0.000000   \n",
       "25%                            NaN     113.000000          NaN       0.000000   \n",
       "50%                            NaN     221.500000          NaN       0.000000   \n",
       "75%                            NaN     331.000000          NaN       1.000000   \n",
       "max                            NaN     333.000000          NaN     293.000000   \n",
       "\n",
       "              week_id     sell_price  \n",
       "count   395000.000000  395000.000000  \n",
       "unique            NaN            NaN  \n",
       "top               NaN            NaN  \n",
       "freq              NaN            NaN  \n",
       "mean       105.070886       4.987644  \n",
       "std         32.578749       3.874444  \n",
       "min         49.000000       0.050000  \n",
       "25%         77.000000       2.680000  \n",
       "50%        105.000000       3.980000  \n",
       "75%        133.000000       6.480000  \n",
       "max        161.000000      44.360000  "
      ]
     },
     "execution_count": 13,
     "metadata": {},
     "output_type": "execute_result"
    }
   ],
   "source": [
    "df.describe(include='all')"
   ]
  },
  {
   "cell_type": "markdown",
   "id": "56bcaaec",
   "metadata": {},
   "source": [
    "### <center>since there is no much difference between mean and median values for each continous feature there seems to be no outliers in the data.</center>"
   ]
  },
  {
   "cell_type": "code",
   "execution_count": 14,
   "id": "d5804e0b",
   "metadata": {},
   "outputs": [
    {
     "data": {
      "image/png": "[encoded data removed]",
      "text/plain": [
       "<Figure size 432x288 with 2 Axes>"
      ]
     },
     "metadata": {
      "needs_background": "light"
     },
     "output_type": "display_data"
    }
   ],
   "source": [
    "# checking for outliers for sales to be sure as there is some difference b/w man and median for that feature\n",
    "fig,ax1 = plt.subplots(2,1)\n",
    "sns.distplot(df['sales'],ax=ax1[0])\n",
    "sns.boxplot(df['sales'],ax=ax1[1])\n",
    "plt.show()"
   ]
  },
  {
   "cell_type": "code",
   "execution_count": 15,
   "id": "898b1379",
   "metadata": {},
   "outputs": [],
   "source": [
    "# outlier Treament for sales feature -- imputing median value where value value is greater than equal to 150.\n",
    "df['sales']=np.where(df['sales']>=150,df['sales'].median(),df['sales'])"
   ]
  },
  {
   "cell_type": "markdown",
   "id": "5a7d9c30",
   "metadata": {},
   "source": [
    "# <center>Exploratory Data Analysis</center>"
   ]
  },
  {
   "cell_type": "code",
   "execution_count": 16,
   "id": "343931ad",
   "metadata": {},
   "outputs": [
    {
     "data": {
      "text/plain": [
       "<AxesSubplot:xlabel='sales', ylabel='category_of_product'>"
      ]
     },
     "execution_count": 16,
     "metadata": {},
     "output_type": "execute_result"
    },
    {
     "data": {
      "image/png": "[encoded data removed]",
      "text/plain": [
       "<Figure size 432x288 with 1 Axes>"
      ]
     },
     "metadata": {
      "needs_background": "light"
     },
     "output_type": "display_data"
    }
   ],
   "source": [
    "sns.barplot(x ='sales', y ='category_of_product', data = df,palette ='plasma')"
   ]
  },
  {
   "cell_type": "code",
   "execution_count": 17,
   "id": "1eae69a6",
   "metadata": {},
   "outputs": [
    {
     "data": {
      "text/plain": [
       "fast_moving_consumer_goods    229100\n",
       "drinks_and_food               134300\n",
       "others                         31600\n",
       "Name: category_of_product, dtype: int64"
      ]
     },
     "execution_count": 17,
     "metadata": {},
     "output_type": "execute_result"
    }
   ],
   "source": [
    "df['category_of_product'].value_counts()"
   ]
  },
  {
   "cell_type": "code",
   "execution_count": 18,
   "id": "5b869e51",
   "metadata": {},
   "outputs": [
    {
     "data": {
      "text/plain": [
       "<AxesSubplot:xlabel='sales', ylabel='state'>"
      ]
     },
     "execution_count": 18,
     "metadata": {},
     "output_type": "execute_result"
    },
    {
     "data": {
      "image/png": "[encoded data removed]",
      "text/plain": [
       "<Figure size 432x288 with 1 Axes>"
      ]
     },
     "metadata": {
      "needs_background": "light"
     },
     "output_type": "display_data"
    }
   ],
   "source": [
    "sns.barplot(x ='sales', y ='state', data = df,palette ='plasma')"
   ]
  },
  {
   "cell_type": "markdown",
   "id": "de795b4f",
   "metadata": {},
   "source": [
    "### <center> from above figure we can conclude that <b>drinks and foods</b> have a higher sales than other two categories and we can conclude that in <b>kerala</b> we get more sales followed by <b>Maharashtra and Telengana</b></center>"
   ]
  },
  {
   "cell_type": "code",
   "execution_count": 19,
   "id": "e441b450",
   "metadata": {},
   "outputs": [
    {
     "data": {
      "image/png": "[encoded data removed]",
      "text/plain": [
       "<Figure size 252x252 with 1 Axes>"
      ]
     },
     "metadata": {
      "needs_background": "light"
     },
     "output_type": "display_data"
    }
   ],
   "source": [
    "sns.PairGrid(df,y_vars='sales',x_vars='outlet',height = 3.5).map(sns.barplot, alpha = 0.3)\n",
    "plt.show()"
   ]
  },
  {
   "cell_type": "markdown",
   "id": "a0cbca66",
   "metadata": {},
   "source": [
    "Here we can observe that outlet 113 has greater number of sales followed by 332 and so on compared to other outlets."
   ]
  },
  {
   "cell_type": "code",
   "execution_count": 21,
   "id": "ab48b89d",
   "metadata": {},
   "outputs": [
    {
     "data": {
      "image/png": "[encoded data removed]",
      "text/plain": [
       "<Figure size 252x252 with 1 Axes>"
      ]
     },
     "metadata": {
      "needs_background": "light"
     },
     "output_type": "display_data"
    }
   ],
   "source": [
    "sns.PairGrid(df,y_vars='sales',x_vars='sell_price',height = 3.5).map(plt.scatter, alpha = 0.5)\n",
    "plt.show()"
   ]
  },
  {
   "cell_type": "code",
   "execution_count": 27,
   "id": "2e983650",
   "metadata": {},
   "outputs": [
    {
     "data": {
      "image/png": "[encoded data removed]",
      "text/plain": [
       "<Figure size 432x288 with 1 Axes>"
      ]
     },
     "metadata": {
      "needs_background": "light"
     },
     "output_type": "display_data"
    }
   ],
   "source": [
    "#CDF\n",
    "values, base = np.histogram(df['sell_price'], bins=40, density=True)\n",
    "\n",
    "pdf = values/(sum(values))\n",
    "cumulative = np.cumsum(values)\n",
    "\n",
    "cdf = np.cumsum(pdf)\n",
    "sns.kdeplot(df['sell_price'])\n",
    "plt.plot(base[:-1],cdf)\n",
    "\n",
    "plt.show()"
   ]
  },
  {
   "cell_type": "markdown",
   "id": "1b6fb44c",
   "metadata": {},
   "source": [
    "### <center>we can obeserve approximatly 95% of sell price lies below 15, and we can also observe that for less sell_price we have most of the sales when sell_price is less than 15</center>"
   ]
  },
  {
   "cell_type": "markdown",
   "id": "0303520f",
   "metadata": {},
   "source": [
    "# <center>Feature Engineering</center>"
   ]
  },
  {
   "cell_type": "code",
   "execution_count": 23,
   "id": "ce1aa78b",
   "metadata": {},
   "outputs": [],
   "source": [
    "df['year'] = df['date'].apply(lambda x: int(x.split('-')[0]))\n",
    "df['month'] = df['date'].apply(lambda x: int(x.split('-')[1]))\n",
    "df['days'] = df['date'].apply(lambda x: int(x.split('-')[2]))"
   ]
  },
  {
   "cell_type": "code",
   "execution_count": 24,
   "id": "3baed18a",
   "metadata": {},
   "outputs": [],
   "source": [
    "df.drop('date',axis=1,inplace=True)"
   ]
  },
  {
   "cell_type": "code",
   "execution_count": 25,
   "id": "1924405d",
   "metadata": {},
   "outputs": [
    {
     "data": {
      "text/plain": [
       "array(['Maharashtra', 'Telangana', 'Kerala'], dtype=object)"
      ]
     },
     "execution_count": 25,
     "metadata": {},
     "output_type": "execute_result"
    }
   ],
   "source": [
    "df['state'].unique()"
   ]
  },
  {
   "cell_type": "code",
   "execution_count": 39,
   "id": "d2991f20",
   "metadata": {},
   "outputs": [],
   "source": [
    "#Labelencoder\n",
    "from sklearn.preprocessing import LabelEncoder\n",
    "labelencoder=LabelEncoder()\n",
    "\n",
    "df_cp=labelencoder.fit(df['category_of_product'])\n",
    "df['category_of_product'] = df_cp.transform(df['category_of_product'])\n",
    "df_st=labelencoder.fit(df['state'])\n",
    "df['state'] = df_st.transform(df['state'])"
   ]
  },
  {
   "cell_type": "code",
   "execution_count": 40,
   "id": "c063cd2f",
   "metadata": {},
   "outputs": [
    {
     "data": {
      "text/html": [
       "<div>\n",
       "<style scoped>\n",
       "    .dataframe tbody tr th:only-of-type {\n",
       "        vertical-align: middle;\n",
       "    }\n",
       "\n",
       "    .dataframe tbody tr th {\n",
       "        vertical-align: top;\n",
       "    }\n",
       "\n",
       "    .dataframe thead th {\n",
       "        text-align: right;\n",
       "    }\n",
       "</style>\n",
       "<table border=\"1\" class=\"dataframe\">\n",
       "  <thead>\n",
       "    <tr style=\"text-align: right;\">\n",
       "      <th></th>\n",
       "      <th>product_identifier</th>\n",
       "      <th>department_identifier</th>\n",
       "      <th>category_of_product</th>\n",
       "      <th>outlet</th>\n",
       "      <th>state</th>\n",
       "      <th>sales</th>\n",
       "      <th>week_id</th>\n",
       "      <th>sell_price</th>\n",
       "      <th>year</th>\n",
       "      <th>month</th>\n",
       "      <th>days</th>\n",
       "    </tr>\n",
       "  </thead>\n",
       "  <tbody>\n",
       "    <tr>\n",
       "      <th>0</th>\n",
       "      <td>74</td>\n",
       "      <td>11</td>\n",
       "      <td>2</td>\n",
       "      <td>111</td>\n",
       "      <td>1</td>\n",
       "      <td>0.0</td>\n",
       "      <td>49</td>\n",
       "      <td>2.94</td>\n",
       "      <td>2012</td>\n",
       "      <td>1</td>\n",
       "      <td>1</td>\n",
       "    </tr>\n",
       "    <tr>\n",
       "      <th>1</th>\n",
       "      <td>337</td>\n",
       "      <td>11</td>\n",
       "      <td>2</td>\n",
       "      <td>111</td>\n",
       "      <td>1</td>\n",
       "      <td>1.0</td>\n",
       "      <td>49</td>\n",
       "      <td>7.44</td>\n",
       "      <td>2012</td>\n",
       "      <td>1</td>\n",
       "      <td>1</td>\n",
       "    </tr>\n",
       "    <tr>\n",
       "      <th>2</th>\n",
       "      <td>423</td>\n",
       "      <td>12</td>\n",
       "      <td>2</td>\n",
       "      <td>111</td>\n",
       "      <td>1</td>\n",
       "      <td>0.0</td>\n",
       "      <td>49</td>\n",
       "      <td>0.97</td>\n",
       "      <td>2012</td>\n",
       "      <td>1</td>\n",
       "      <td>1</td>\n",
       "    </tr>\n",
       "    <tr>\n",
       "      <th>3</th>\n",
       "      <td>432</td>\n",
       "      <td>12</td>\n",
       "      <td>2</td>\n",
       "      <td>111</td>\n",
       "      <td>1</td>\n",
       "      <td>0.0</td>\n",
       "      <td>49</td>\n",
       "      <td>4.97</td>\n",
       "      <td>2012</td>\n",
       "      <td>1</td>\n",
       "      <td>1</td>\n",
       "    </tr>\n",
       "    <tr>\n",
       "      <th>4</th>\n",
       "      <td>581</td>\n",
       "      <td>21</td>\n",
       "      <td>1</td>\n",
       "      <td>111</td>\n",
       "      <td>1</td>\n",
       "      <td>0.0</td>\n",
       "      <td>49</td>\n",
       "      <td>4.88</td>\n",
       "      <td>2012</td>\n",
       "      <td>1</td>\n",
       "      <td>1</td>\n",
       "    </tr>\n",
       "  </tbody>\n",
       "</table>\n",
       "</div>"
      ],
      "text/plain": [
       "   product_identifier  department_identifier  category_of_product  outlet  \\\n",
       "0                  74                     11                    2     111   \n",
       "1                 337                     11                    2     111   \n",
       "2                 423                     12                    2     111   \n",
       "3                 432                     12                    2     111   \n",
       "4                 581                     21                    1     111   \n",
       "\n",
       "   state  sales  week_id  sell_price  year  month  days  \n",
       "0      1    0.0       49        2.94  2012      1     1  \n",
       "1      1    1.0       49        7.44  2012      1     1  \n",
       "2      1    0.0       49        0.97  2012      1     1  \n",
       "3      1    0.0       49        4.97  2012      1     1  \n",
       "4      1    0.0       49        4.88  2012      1     1  "
      ]
     },
     "execution_count": 40,
     "metadata": {},
     "output_type": "execute_result"
    }
   ],
   "source": [
    "df.head()"
   ]
  },
  {
   "cell_type": "markdown",
   "id": "ade1cd0b",
   "metadata": {},
   "source": [
    "# <center>Train Test Split</center>"
   ]
  },
  {
   "cell_type": "code",
   "execution_count": 41,
   "id": "975b0bd8",
   "metadata": {},
   "outputs": [],
   "source": [
    "x = df.drop('sales',axis=1)\n",
    "y = df['sales']"
   ]
  },
  {
   "cell_type": "code",
   "execution_count": 42,
   "id": "dbcfb7da",
   "metadata": {},
   "outputs": [],
   "source": [
    "x_train,x_test,y_train,y_test = train_test_split(x,y,test_size=0.20,random_state=42)\n",
    "x_train,x_cv,y_train,y_cv = train_test_split(x_train,y_train,test_size=0.20,random_state=42)"
   ]
  },
  {
   "cell_type": "markdown",
   "id": "bd9dc3aa",
   "metadata": {},
   "source": [
    "# <center>Model Building and tunning the model</center>"
   ]
  },
  {
   "cell_type": "code",
   "execution_count": 161,
   "id": "01ab0d07",
   "metadata": {},
   "outputs": [
    {
     "data": {
      "text/plain": [
       "0.09099265071083162"
      ]
     },
     "execution_count": 161,
     "metadata": {},
     "output_type": "execute_result"
    }
   ],
   "source": [
    "regr = DecisionTreeRegressor()\n",
    "regr.fit(x_train, y_train)\n",
    "regr.score(x_test,y_test)"
   ]
  },
  {
   "cell_type": "code",
   "execution_count": 162,
   "id": "cbe88e74",
   "metadata": {},
   "outputs": [
    {
     "data": {
      "text/plain": [
       "[<matplotlib.lines.Line2D at 0x21d2ca41310>]"
      ]
     },
     "execution_count": 162,
     "metadata": {},
     "output_type": "execute_result"
    },
    {
     "data": {
      "image/png": "[encoded data removed]",
      "text/plain": [
       "<Figure size 432x288 with 1 Axes>"
      ]
     },
     "metadata": {
      "needs_background": "light"
     },
     "output_type": "display_data"
    }
   ],
   "source": [
    "acc = []\n",
    "for i in range(1,20):\n",
    "    regr = DecisionTreeRegressor(max_depth=i)\n",
    "    regr.fit(x_train, y_train)\n",
    "    acc.append(regr.score(x_cv,y_cv))\n",
    "plt.plot(acc)"
   ]
  },
  {
   "cell_type": "markdown",
   "id": "6584065d",
   "metadata": {},
   "source": [
    "By performing the cross validation here i am able to find the best hyperparameter and avoid the model from overfitting and underfitting"
   ]
  },
  {
   "cell_type": "code",
   "execution_count": 163,
   "id": "63cf5361",
   "metadata": {},
   "outputs": [
    {
     "data": {
      "text/plain": [
       "(8, 0.41513253013864637)"
      ]
     },
     "execution_count": 163,
     "metadata": {},
     "output_type": "execute_result"
    }
   ],
   "source": [
    "np.argmax(acc),acc[np.argmax(acc)]"
   ]
  },
  {
   "cell_type": "code",
   "execution_count": 164,
   "id": "b8cdcd55",
   "metadata": {},
   "outputs": [
    {
     "data": {
      "text/plain": [
       "0.3969661081977097"
      ]
     },
     "execution_count": 164,
     "metadata": {},
     "output_type": "execute_result"
    }
   ],
   "source": [
    "regr = DecisionTreeRegressor(max_depth=8)\n",
    "regr.fit(x_train, y_train)\n",
    "y_pred = regr.predict(x_test)\n",
    "regr.score(x_test,y_test)"
   ]
  },
  {
   "cell_type": "code",
   "execution_count": 165,
   "id": "34d0a157",
   "metadata": {},
   "outputs": [
    {
     "data": {
      "text/plain": [
       "2.6372206913969527"
      ]
     },
     "execution_count": 165,
     "metadata": {},
     "output_type": "execute_result"
    }
   ],
   "source": [
    "mean_squared_error(y_test, y_pred,squared=False)"
   ]
  },
  {
   "cell_type": "code",
   "execution_count": 166,
   "id": "f3eaf4ee",
   "metadata": {},
   "outputs": [
    {
     "data": {
      "text/plain": [
       "<AxesSubplot:xlabel='sales', ylabel='Density'>"
      ]
     },
     "execution_count": 166,
     "metadata": {},
     "output_type": "execute_result"
    },
    {
     "data": {
      "image/png": "[encoded data removed]",
      "text/plain": [
       "<Figure size 432x288 with 1 Axes>"
      ]
     },
     "metadata": {
      "needs_background": "light"
     },
     "output_type": "display_data"
    }
   ],
   "source": [
    "#plot error\n",
    "sns.distplot(y_test-y_pred)"
   ]
  },
  {
   "cell_type": "code",
   "execution_count": 167,
   "id": "c18451fa",
   "metadata": {},
   "outputs": [
    {
     "data": {
      "text/plain": [
       "0.3969661081977097"
      ]
     },
     "execution_count": 167,
     "metadata": {},
     "output_type": "execute_result"
    }
   ],
   "source": [
    "r2_score(y_test, y_pred)"
   ]
  },
  {
   "cell_type": "markdown",
   "id": "21c22a98",
   "metadata": {},
   "source": [
    "# <center>Random Forest Regressor</center>"
   ]
  },
  {
   "cell_type": "code",
   "execution_count": 168,
   "id": "4c7c5936",
   "metadata": {},
   "outputs": [
    {
     "data": {
      "text/plain": [
       "0.4596673031028773"
      ]
     },
     "execution_count": 168,
     "metadata": {},
     "output_type": "execute_result"
    }
   ],
   "source": [
    "regr = RandomForestRegressor()\n",
    "regr.fit(x_train, y_train)\n",
    "regr.score(x_test,y_test)"
   ]
  },
  {
   "cell_type": "code",
   "execution_count": 169,
   "id": "02a39347",
   "metadata": {},
   "outputs": [
    {
     "data": {
      "text/plain": [
       "[<matplotlib.lines.Line2D at 0x21d346417c0>]"
      ]
     },
     "execution_count": 169,
     "metadata": {},
     "output_type": "execute_result"
    },
    {
     "data": {
      "image/png": "[encoded data removed]",
      "text/plain": [
       "<Figure size 432x288 with 1 Axes>"
      ]
     },
     "metadata": {
      "needs_background": "light"
     },
     "output_type": "display_data"
    }
   ],
   "source": [
    "acc = []\n",
    "for i in range(100,200,10):\n",
    "    regr = RandomForestRegressor(n_estimators =i)\n",
    "    regr.fit(x_train, y_train)\n",
    "    acc.append(regr.score(x_cv,y_cv))\n",
    "plt.plot(acc)"
   ]
  },
  {
   "cell_type": "code",
   "execution_count": 170,
   "id": "8eac1bf5",
   "metadata": {},
   "outputs": [
    {
     "data": {
      "text/plain": [
       "(7, 0.49387327578711104)"
      ]
     },
     "execution_count": 170,
     "metadata": {},
     "output_type": "execute_result"
    }
   ],
   "source": [
    "np.argmax(acc),acc[np.argmax(acc)]"
   ]
  },
  {
   "cell_type": "markdown",
   "id": "59c8ce23",
   "metadata": {},
   "source": [
    "# <center>training again with best estimators / hyperparameter</center>"
   ]
  },
  {
   "cell_type": "code",
   "execution_count": 171,
   "id": "2b60c9d6",
   "metadata": {},
   "outputs": [
    {
     "name": "stdout",
     "output_type": "stream",
     "text": [
      "0.4599205150417961\n"
     ]
    },
    {
     "data": {
      "text/plain": [
       "array([1.17647059e-02, 5.35294118e-01, 1.66470588e+00, ...,\n",
       "       4.11764706e-01, 7.05882353e-01, 1.22058824e+01])"
      ]
     },
     "execution_count": 171,
     "metadata": {},
     "output_type": "execute_result"
    }
   ],
   "source": [
    "regr = RandomForestRegressor(n_estimators=170)\n",
    "regr.fit(x_train, y_train)\n",
    "print(regr.score(x_test,y_test))\n",
    "regr.predict(x_test)"
   ]
  },
  {
   "cell_type": "code",
   "execution_count": 172,
   "id": "754a88f5",
   "metadata": {},
   "outputs": [
    {
     "name": "stdout",
     "output_type": "stream",
     "text": [
      "RMSE : 2.6372206913969527\n",
      "r2 score:  0.3969661081977097\n"
     ]
    }
   ],
   "source": [
    "print('RMSE :',mean_squared_error(y_test, y_pred,squared=False))\n",
    "print('r2 score: ', r2_score(y_test, y_pred))"
   ]
  },
  {
   "cell_type": "code",
   "execution_count": 173,
   "id": "1f5e2c03",
   "metadata": {},
   "outputs": [
    {
     "data": {
      "text/plain": [
       "<AxesSubplot:xlabel='sales', ylabel='Density'>"
      ]
     },
     "execution_count": 173,
     "metadata": {},
     "output_type": "execute_result"
    },
    {
     "data": {
      "image/png": "[encoded data removed]",
      "text/plain": [
       "<Figure size 432x288 with 1 Axes>"
      ]
     },
     "metadata": {
      "needs_background": "light"
     },
     "output_type": "display_data"
    }
   ],
   "source": [
    "#plot error\n",
    "sns.distplot(y_test-y_pred)"
   ]
  },
  {
   "cell_type": "markdown",
   "id": "f0fba58d",
   "metadata": {},
   "source": [
    "# <center>Checking for multicollinearity</center>"
   ]
  },
  {
   "cell_type": "code",
   "execution_count": 174,
   "id": "bbd78759",
   "metadata": {},
   "outputs": [
    {
     "data": {
      "image/png": "[encoded data removed]",
      "text/plain": [
       "<Figure size 1080x576 with 2 Axes>"
      ]
     },
     "metadata": {
      "needs_background": "light"
     },
     "output_type": "display_data"
    }
   ],
   "source": [
    "#checking for correlation\n",
    "plt.figure(figsize=(15,8))\n",
    "sns.heatmap(df.corr(),annot=True)\n",
    "plt.show()"
   ]
  },
  {
   "cell_type": "markdown",
   "id": "a320294c",
   "metadata": {},
   "source": [
    "### <center>we can observe high correlation from above heatmap and to cofirm that i am plotting the below curves to visualize</center>"
   ]
  },
  {
   "cell_type": "code",
   "execution_count": 176,
   "id": "edf04e85",
   "metadata": {},
   "outputs": [
    {
     "data": {
      "image/png": "[encoded data removed]",
      "text/plain": [
       "<Figure size 252x252 with 1 Axes>"
      ]
     },
     "metadata": {
      "needs_background": "light"
     },
     "output_type": "display_data"
    }
   ],
   "source": [
    "#Correlation between y and x\n",
    "sns.PairGrid(df,y_vars='product_identifier',x_vars='department_identifier',height = 3.5).map(plt.scatter, color='darkred', alpha = 0.3)\n",
    "coef = np.corrcoef(df['product_identifier'],df['department_identifier'])[0][1]\n",
    "label = r'$\\rho$ = ' + str(round(coef, 2))\n",
    "plt.title(label)\n",
    "plt.show()"
   ]
  },
  {
   "cell_type": "code",
   "execution_count": 177,
   "id": "e39655aa",
   "metadata": {},
   "outputs": [
    {
     "data": {
      "image/png": "[encoded data removed]",
      "text/plain": [
       "<Figure size 252x252 with 1 Axes>"
      ]
     },
     "metadata": {
      "needs_background": "light"
     },
     "output_type": "display_data"
    }
   ],
   "source": [
    "sns.PairGrid(df,y_vars='category_of_product',x_vars='department_identifier',height = 3.5).map(plt.scatter, color='darkred', alpha = 0.3)\n",
    "coef = np.corrcoef(df['category_of_product'],df['department_identifier'])[0][1]\n",
    "label = r'$\\rho$ = ' + str(round(coef, 2))\n",
    "plt.title(label)\n",
    "plt.show()"
   ]
  },
  {
   "cell_type": "code",
   "execution_count": 178,
   "id": "ee8f9c4b",
   "metadata": {},
   "outputs": [
    {
     "data": {
      "image/png": "[encoded data removed]",
      "text/plain": [
       "<Figure size 252x252 with 1 Axes>"
      ]
     },
     "metadata": {
      "needs_background": "light"
     },
     "output_type": "display_data"
    }
   ],
   "source": [
    "#Correlation between y and x\n",
    "sns.PairGrid(df,y_vars='product_identifier',x_vars='category_of_product',height = 3.5).map(plt.scatter, color='darkred', alpha = 0.3)\n",
    "coef = np.corrcoef(df['product_identifier'],df['category_of_product'])[0][1]\n",
    "label = r'$\\rho$ = ' + str(round(coef, 2))\n",
    "plt.title(label)\n",
    "plt.show()"
   ]
  },
  {
   "cell_type": "markdown",
   "id": "98bdf2a9",
   "metadata": {},
   "source": [
    "# <center>checking for variance_inflation_factor\n",
    "to be sure which column to drop to reduce the multicolinearity</center>"
   ]
  },
  {
   "cell_type": "code",
   "execution_count": 179,
   "id": "06f71cdd",
   "metadata": {},
   "outputs": [
    {
     "data": {
      "text/html": [
       "<div>\n",
       "<style scoped>\n",
       "    .dataframe tbody tr th:only-of-type {\n",
       "        vertical-align: middle;\n",
       "    }\n",
       "\n",
       "    .dataframe tbody tr th {\n",
       "        vertical-align: top;\n",
       "    }\n",
       "\n",
       "    .dataframe thead th {\n",
       "        text-align: right;\n",
       "    }\n",
       "</style>\n",
       "<table border=\"1\" class=\"dataframe\">\n",
       "  <thead>\n",
       "    <tr style=\"text-align: right;\">\n",
       "      <th></th>\n",
       "      <th>feature</th>\n",
       "      <th>VIF</th>\n",
       "    </tr>\n",
       "  </thead>\n",
       "  <tbody>\n",
       "    <tr>\n",
       "      <th>0</th>\n",
       "      <td>product_identifier</td>\n",
       "      <td>95.297140</td>\n",
       "    </tr>\n",
       "    <tr>\n",
       "      <th>1</th>\n",
       "      <td>department_identifier</td>\n",
       "      <td>7197.046049</td>\n",
       "    </tr>\n",
       "    <tr>\n",
       "      <th>2</th>\n",
       "      <td>category_of_product</td>\n",
       "      <td>799.607489</td>\n",
       "    </tr>\n",
       "    <tr>\n",
       "      <th>3</th>\n",
       "      <td>outlet</td>\n",
       "      <td>8.155501</td>\n",
       "    </tr>\n",
       "    <tr>\n",
       "      <th>4</th>\n",
       "      <td>state</td>\n",
       "      <td>3.413824</td>\n",
       "    </tr>\n",
       "    <tr>\n",
       "      <th>5</th>\n",
       "      <td>sales</td>\n",
       "      <td>1.213867</td>\n",
       "    </tr>\n",
       "    <tr>\n",
       "      <th>6</th>\n",
       "      <td>week_id</td>\n",
       "      <td>12.179093</td>\n",
       "    </tr>\n",
       "    <tr>\n",
       "      <th>7</th>\n",
       "      <td>sell_price</td>\n",
       "      <td>3.102333</td>\n",
       "    </tr>\n",
       "    <tr>\n",
       "      <th>8</th>\n",
       "      <td>year</td>\n",
       "      <td>9370.445950</td>\n",
       "    </tr>\n",
       "    <tr>\n",
       "      <th>9</th>\n",
       "      <td>month</td>\n",
       "      <td>4.202893</td>\n",
       "    </tr>\n",
       "    <tr>\n",
       "      <th>10</th>\n",
       "      <td>days</td>\n",
       "      <td>4.200773</td>\n",
       "    </tr>\n",
       "  </tbody>\n",
       "</table>\n",
       "</div>"
      ],
      "text/plain": [
       "                  feature          VIF\n",
       "0      product_identifier    95.297140\n",
       "1   department_identifier  7197.046049\n",
       "2     category_of_product   799.607489\n",
       "3                  outlet     8.155501\n",
       "4                   state     3.413824\n",
       "5                   sales     1.213867\n",
       "6                 week_id    12.179093\n",
       "7              sell_price     3.102333\n",
       "8                    year  9370.445950\n",
       "9                   month     4.202893\n",
       "10                   days     4.200773"
      ]
     },
     "execution_count": 179,
     "metadata": {},
     "output_type": "execute_result"
    }
   ],
   "source": [
    "vif_df = df.loc[:, df.columns != 'price']\n",
    "\n",
    "vif_data = pd.DataFrame()\n",
    "vif_data[\"feature\"] = vif_df.columns\n",
    "vif_data[\"VIF\"] = [variance_inflation_factor(vif_df.values ,i) for i in range(len(vif_df.columns))]\n",
    "vif_data"
   ]
  },
  {
   "cell_type": "code",
   "execution_count": 180,
   "id": "acdb9e45",
   "metadata": {},
   "outputs": [],
   "source": [
    "df.drop('year',axis=1,inplace=True)"
   ]
  },
  {
   "cell_type": "code",
   "execution_count": 181,
   "id": "b1357335",
   "metadata": {},
   "outputs": [],
   "source": [
    "df.drop('department_identifier',axis=1,inplace=True)"
   ]
  },
  {
   "cell_type": "code",
   "execution_count": 182,
   "id": "ffcc98e6",
   "metadata": {},
   "outputs": [
    {
     "data": {
      "text/html": [
       "<div>\n",
       "<style scoped>\n",
       "    .dataframe tbody tr th:only-of-type {\n",
       "        vertical-align: middle;\n",
       "    }\n",
       "\n",
       "    .dataframe tbody tr th {\n",
       "        vertical-align: top;\n",
       "    }\n",
       "\n",
       "    .dataframe thead th {\n",
       "        text-align: right;\n",
       "    }\n",
       "</style>\n",
       "<table border=\"1\" class=\"dataframe\">\n",
       "  <thead>\n",
       "    <tr style=\"text-align: right;\">\n",
       "      <th></th>\n",
       "      <th>feature</th>\n",
       "      <th>VIF</th>\n",
       "    </tr>\n",
       "  </thead>\n",
       "  <tbody>\n",
       "    <tr>\n",
       "      <th>0</th>\n",
       "      <td>product_identifier</td>\n",
       "      <td>8.785285</td>\n",
       "    </tr>\n",
       "    <tr>\n",
       "      <th>1</th>\n",
       "      <td>category_of_product</td>\n",
       "      <td>5.961290</td>\n",
       "    </tr>\n",
       "    <tr>\n",
       "      <th>2</th>\n",
       "      <td>outlet</td>\n",
       "      <td>6.764535</td>\n",
       "    </tr>\n",
       "    <tr>\n",
       "      <th>3</th>\n",
       "      <td>state</td>\n",
       "      <td>3.029662</td>\n",
       "    </tr>\n",
       "    <tr>\n",
       "      <th>4</th>\n",
       "      <td>sales</td>\n",
       "      <td>1.184118</td>\n",
       "    </tr>\n",
       "    <tr>\n",
       "      <th>5</th>\n",
       "      <td>week_id</td>\n",
       "      <td>10.623553</td>\n",
       "    </tr>\n",
       "    <tr>\n",
       "      <th>6</th>\n",
       "      <td>sell_price</td>\n",
       "      <td>3.097272</td>\n",
       "    </tr>\n",
       "    <tr>\n",
       "      <th>7</th>\n",
       "      <td>month</td>\n",
       "      <td>4.146422</td>\n",
       "    </tr>\n",
       "    <tr>\n",
       "      <th>8</th>\n",
       "      <td>days</td>\n",
       "      <td>4.015274</td>\n",
       "    </tr>\n",
       "  </tbody>\n",
       "</table>\n",
       "</div>"
      ],
      "text/plain": [
       "               feature        VIF\n",
       "0   product_identifier   8.785285\n",
       "1  category_of_product   5.961290\n",
       "2               outlet   6.764535\n",
       "3                state   3.029662\n",
       "4                sales   1.184118\n",
       "5              week_id  10.623553\n",
       "6           sell_price   3.097272\n",
       "7                month   4.146422\n",
       "8                 days   4.015274"
      ]
     },
     "execution_count": 182,
     "metadata": {},
     "output_type": "execute_result"
    }
   ],
   "source": [
    "vif_df = df.loc[:, df.columns != 'price']\n",
    "\n",
    "vif_data = pd.DataFrame()\n",
    "vif_data[\"feature\"] = vif_df.columns\n",
    "vif_data[\"VIF\"] = [variance_inflation_factor(vif_df.values ,i) for i in range(len(vif_df.columns))]\n",
    "vif_data"
   ]
  },
  {
   "cell_type": "code",
   "execution_count": 183,
   "id": "985085f7",
   "metadata": {},
   "outputs": [
    {
     "data": {
      "text/html": [
       "<div>\n",
       "<style scoped>\n",
       "    .dataframe tbody tr th:only-of-type {\n",
       "        vertical-align: middle;\n",
       "    }\n",
       "\n",
       "    .dataframe tbody tr th {\n",
       "        vertical-align: top;\n",
       "    }\n",
       "\n",
       "    .dataframe thead th {\n",
       "        text-align: right;\n",
       "    }\n",
       "</style>\n",
       "<table border=\"1\" class=\"dataframe\">\n",
       "  <thead>\n",
       "    <tr style=\"text-align: right;\">\n",
       "      <th></th>\n",
       "      <th>product_identifier</th>\n",
       "      <th>category_of_product</th>\n",
       "      <th>outlet</th>\n",
       "      <th>state</th>\n",
       "      <th>sales</th>\n",
       "      <th>week_id</th>\n",
       "      <th>sell_price</th>\n",
       "      <th>month</th>\n",
       "      <th>days</th>\n",
       "    </tr>\n",
       "  </thead>\n",
       "  <tbody>\n",
       "    <tr>\n",
       "      <th>0</th>\n",
       "      <td>74</td>\n",
       "      <td>2</td>\n",
       "      <td>111</td>\n",
       "      <td>1</td>\n",
       "      <td>0.0</td>\n",
       "      <td>49</td>\n",
       "      <td>2.94</td>\n",
       "      <td>1</td>\n",
       "      <td>1</td>\n",
       "    </tr>\n",
       "    <tr>\n",
       "      <th>1</th>\n",
       "      <td>337</td>\n",
       "      <td>2</td>\n",
       "      <td>111</td>\n",
       "      <td>1</td>\n",
       "      <td>1.0</td>\n",
       "      <td>49</td>\n",
       "      <td>7.44</td>\n",
       "      <td>1</td>\n",
       "      <td>1</td>\n",
       "    </tr>\n",
       "    <tr>\n",
       "      <th>2</th>\n",
       "      <td>423</td>\n",
       "      <td>2</td>\n",
       "      <td>111</td>\n",
       "      <td>1</td>\n",
       "      <td>0.0</td>\n",
       "      <td>49</td>\n",
       "      <td>0.97</td>\n",
       "      <td>1</td>\n",
       "      <td>1</td>\n",
       "    </tr>\n",
       "    <tr>\n",
       "      <th>3</th>\n",
       "      <td>432</td>\n",
       "      <td>2</td>\n",
       "      <td>111</td>\n",
       "      <td>1</td>\n",
       "      <td>0.0</td>\n",
       "      <td>49</td>\n",
       "      <td>4.97</td>\n",
       "      <td>1</td>\n",
       "      <td>1</td>\n",
       "    </tr>\n",
       "    <tr>\n",
       "      <th>4</th>\n",
       "      <td>581</td>\n",
       "      <td>1</td>\n",
       "      <td>111</td>\n",
       "      <td>1</td>\n",
       "      <td>0.0</td>\n",
       "      <td>49</td>\n",
       "      <td>4.88</td>\n",
       "      <td>1</td>\n",
       "      <td>1</td>\n",
       "    </tr>\n",
       "  </tbody>\n",
       "</table>\n",
       "</div>"
      ],
      "text/plain": [
       "   product_identifier  category_of_product  outlet  state  sales  week_id  \\\n",
       "0                  74                    2     111      1    0.0       49   \n",
       "1                 337                    2     111      1    1.0       49   \n",
       "2                 423                    2     111      1    0.0       49   \n",
       "3                 432                    2     111      1    0.0       49   \n",
       "4                 581                    1     111      1    0.0       49   \n",
       "\n",
       "   sell_price  month  days  \n",
       "0        2.94      1     1  \n",
       "1        7.44      1     1  \n",
       "2        0.97      1     1  \n",
       "3        4.97      1     1  \n",
       "4        4.88      1     1  "
      ]
     },
     "execution_count": 183,
     "metadata": {},
     "output_type": "execute_result"
    }
   ],
   "source": [
    "df.head()"
   ]
  },
  {
   "cell_type": "code",
   "execution_count": 184,
   "id": "0437e024",
   "metadata": {},
   "outputs": [
    {
     "data": {
      "text/plain": [
       "(395000, 9)"
      ]
     },
     "execution_count": 184,
     "metadata": {},
     "output_type": "execute_result"
    }
   ],
   "source": [
    "df.shape"
   ]
  },
  {
   "cell_type": "markdown",
   "id": "bff38d4e",
   "metadata": {},
   "source": [
    "### <center>Train test split to train the model after dropping columns</center>"
   ]
  },
  {
   "cell_type": "code",
   "execution_count": 185,
   "id": "6eff2d70",
   "metadata": {},
   "outputs": [],
   "source": [
    "x = df.drop('sales',axis=1)\n",
    "y = df['sales']\n",
    "x_train,x_test,y_train,y_test = train_test_split(x,y,test_size=0.20,random_state=42)\n",
    "x_train,x_cv,y_train,y_cv = train_test_split(x_train,y_train,test_size=0.20,random_state=42)"
   ]
  },
  {
   "cell_type": "code",
   "execution_count": 186,
   "id": "48f37f5a",
   "metadata": {},
   "outputs": [
    {
     "data": {
      "text/html": [
       "<div>\n",
       "<style scoped>\n",
       "    .dataframe tbody tr th:only-of-type {\n",
       "        vertical-align: middle;\n",
       "    }\n",
       "\n",
       "    .dataframe tbody tr th {\n",
       "        vertical-align: top;\n",
       "    }\n",
       "\n",
       "    .dataframe thead th {\n",
       "        text-align: right;\n",
       "    }\n",
       "</style>\n",
       "<table border=\"1\" class=\"dataframe\">\n",
       "  <thead>\n",
       "    <tr style=\"text-align: right;\">\n",
       "      <th></th>\n",
       "      <th>product_identifier</th>\n",
       "      <th>category_of_product</th>\n",
       "      <th>outlet</th>\n",
       "      <th>state</th>\n",
       "      <th>sales</th>\n",
       "      <th>week_id</th>\n",
       "      <th>sell_price</th>\n",
       "      <th>month</th>\n",
       "      <th>days</th>\n",
       "    </tr>\n",
       "  </thead>\n",
       "  <tbody>\n",
       "    <tr>\n",
       "      <th>0</th>\n",
       "      <td>74</td>\n",
       "      <td>2</td>\n",
       "      <td>111</td>\n",
       "      <td>1</td>\n",
       "      <td>0.0</td>\n",
       "      <td>49</td>\n",
       "      <td>2.94</td>\n",
       "      <td>1</td>\n",
       "      <td>1</td>\n",
       "    </tr>\n",
       "    <tr>\n",
       "      <th>1</th>\n",
       "      <td>337</td>\n",
       "      <td>2</td>\n",
       "      <td>111</td>\n",
       "      <td>1</td>\n",
       "      <td>1.0</td>\n",
       "      <td>49</td>\n",
       "      <td>7.44</td>\n",
       "      <td>1</td>\n",
       "      <td>1</td>\n",
       "    </tr>\n",
       "    <tr>\n",
       "      <th>2</th>\n",
       "      <td>423</td>\n",
       "      <td>2</td>\n",
       "      <td>111</td>\n",
       "      <td>1</td>\n",
       "      <td>0.0</td>\n",
       "      <td>49</td>\n",
       "      <td>0.97</td>\n",
       "      <td>1</td>\n",
       "      <td>1</td>\n",
       "    </tr>\n",
       "    <tr>\n",
       "      <th>3</th>\n",
       "      <td>432</td>\n",
       "      <td>2</td>\n",
       "      <td>111</td>\n",
       "      <td>1</td>\n",
       "      <td>0.0</td>\n",
       "      <td>49</td>\n",
       "      <td>4.97</td>\n",
       "      <td>1</td>\n",
       "      <td>1</td>\n",
       "    </tr>\n",
       "    <tr>\n",
       "      <th>4</th>\n",
       "      <td>581</td>\n",
       "      <td>1</td>\n",
       "      <td>111</td>\n",
       "      <td>1</td>\n",
       "      <td>0.0</td>\n",
       "      <td>49</td>\n",
       "      <td>4.88</td>\n",
       "      <td>1</td>\n",
       "      <td>1</td>\n",
       "    </tr>\n",
       "  </tbody>\n",
       "</table>\n",
       "</div>"
      ],
      "text/plain": [
       "   product_identifier  category_of_product  outlet  state  sales  week_id  \\\n",
       "0                  74                    2     111      1    0.0       49   \n",
       "1                 337                    2     111      1    1.0       49   \n",
       "2                 423                    2     111      1    0.0       49   \n",
       "3                 432                    2     111      1    0.0       49   \n",
       "4                 581                    1     111      1    0.0       49   \n",
       "\n",
       "   sell_price  month  days  \n",
       "0        2.94      1     1  \n",
       "1        7.44      1     1  \n",
       "2        0.97      1     1  \n",
       "3        4.97      1     1  \n",
       "4        4.88      1     1  "
      ]
     },
     "execution_count": 186,
     "metadata": {},
     "output_type": "execute_result"
    }
   ],
   "source": [
    "df.head()"
   ]
  },
  {
   "cell_type": "code",
   "execution_count": 187,
   "id": "017538de",
   "metadata": {},
   "outputs": [
    {
     "data": {
      "text/plain": [
       "[<matplotlib.lines.Line2D at 0x21d5ed131c0>]"
      ]
     },
     "execution_count": 187,
     "metadata": {},
     "output_type": "execute_result"
    },
    {
     "data": {
      "image/png": "[encoded data removed]",
      "text/plain": [
       "<Figure size 432x288 with 1 Axes>"
      ]
     },
     "metadata": {
      "needs_background": "light"
     },
     "output_type": "display_data"
    }
   ],
   "source": [
    "acc = []\n",
    "for i in range(130,200,10):\n",
    "    regr = RandomForestRegressor(n_estimators =i)\n",
    "    regr.fit(x_train, y_train)\n",
    "    acc.append(regr.score(x_cv,y_cv))\n",
    "plt.plot(acc)"
   ]
  },
  {
   "cell_type": "code",
   "execution_count": 188,
   "id": "53f2b063",
   "metadata": {},
   "outputs": [
    {
     "data": {
      "text/plain": [
       "(4, 0.4959314574131235)"
      ]
     },
     "execution_count": 188,
     "metadata": {},
     "output_type": "execute_result"
    }
   ],
   "source": [
    "np.argmax(acc),acc[np.argmax(acc)]"
   ]
  },
  {
   "cell_type": "code",
   "execution_count": 189,
   "id": "9d0ecb63",
   "metadata": {},
   "outputs": [
    {
     "data": {
      "text/plain": [
       "Index(['product_identifier', 'category_of_product', 'outlet', 'state',\n",
       "       'week_id', 'sell_price', 'month', 'days'],\n",
       "      dtype='object')"
      ]
     },
     "execution_count": 189,
     "metadata": {},
     "output_type": "execute_result"
    }
   ],
   "source": [
    "x_train.columns"
   ]
  },
  {
   "cell_type": "markdown",
   "id": "f45bcd9b",
   "metadata": {},
   "source": [
    "## <center>Training on entire dataset using best n_estimator for Random Forest regressor</center>"
   ]
  },
  {
   "cell_type": "code",
   "execution_count": 190,
   "id": "bd8216f9",
   "metadata": {},
   "outputs": [],
   "source": [
    "df_temp = df_dw.merge(df_pp, on = \"week_id\", how = \"inner\")\n",
    "df=pd.merge(df_train, df_temp, on =['date','product_identifier','outlet'],how = \"inner\")"
   ]
  },
  {
   "cell_type": "code",
   "execution_count": 191,
   "id": "f52738a6",
   "metadata": {},
   "outputs": [
    {
     "data": {
      "text/html": [
       "<div>\n",
       "<style scoped>\n",
       "    .dataframe tbody tr th:only-of-type {\n",
       "        vertical-align: middle;\n",
       "    }\n",
       "\n",
       "    .dataframe tbody tr th {\n",
       "        vertical-align: top;\n",
       "    }\n",
       "\n",
       "    .dataframe thead th {\n",
       "        text-align: right;\n",
       "    }\n",
       "</style>\n",
       "<table border=\"1\" class=\"dataframe\">\n",
       "  <thead>\n",
       "    <tr style=\"text-align: right;\">\n",
       "      <th></th>\n",
       "      <th>date</th>\n",
       "      <th>product_identifier</th>\n",
       "      <th>department_identifier</th>\n",
       "      <th>category_of_product</th>\n",
       "      <th>outlet</th>\n",
       "      <th>state</th>\n",
       "      <th>sales</th>\n",
       "      <th>week_id</th>\n",
       "      <th>sell_price</th>\n",
       "    </tr>\n",
       "  </thead>\n",
       "  <tbody>\n",
       "    <tr>\n",
       "      <th>0</th>\n",
       "      <td>2012-01-01</td>\n",
       "      <td>74</td>\n",
       "      <td>11</td>\n",
       "      <td>others</td>\n",
       "      <td>111</td>\n",
       "      <td>Maharashtra</td>\n",
       "      <td>0</td>\n",
       "      <td>49</td>\n",
       "      <td>2.94</td>\n",
       "    </tr>\n",
       "    <tr>\n",
       "      <th>1</th>\n",
       "      <td>2012-01-01</td>\n",
       "      <td>337</td>\n",
       "      <td>11</td>\n",
       "      <td>others</td>\n",
       "      <td>111</td>\n",
       "      <td>Maharashtra</td>\n",
       "      <td>1</td>\n",
       "      <td>49</td>\n",
       "      <td>7.44</td>\n",
       "    </tr>\n",
       "    <tr>\n",
       "      <th>2</th>\n",
       "      <td>2012-01-01</td>\n",
       "      <td>423</td>\n",
       "      <td>12</td>\n",
       "      <td>others</td>\n",
       "      <td>111</td>\n",
       "      <td>Maharashtra</td>\n",
       "      <td>0</td>\n",
       "      <td>49</td>\n",
       "      <td>0.97</td>\n",
       "    </tr>\n",
       "    <tr>\n",
       "      <th>3</th>\n",
       "      <td>2012-01-01</td>\n",
       "      <td>432</td>\n",
       "      <td>12</td>\n",
       "      <td>others</td>\n",
       "      <td>111</td>\n",
       "      <td>Maharashtra</td>\n",
       "      <td>0</td>\n",
       "      <td>49</td>\n",
       "      <td>4.97</td>\n",
       "    </tr>\n",
       "    <tr>\n",
       "      <th>4</th>\n",
       "      <td>2012-01-01</td>\n",
       "      <td>581</td>\n",
       "      <td>21</td>\n",
       "      <td>fast_moving_consumer_goods</td>\n",
       "      <td>111</td>\n",
       "      <td>Maharashtra</td>\n",
       "      <td>0</td>\n",
       "      <td>49</td>\n",
       "      <td>4.88</td>\n",
       "    </tr>\n",
       "  </tbody>\n",
       "</table>\n",
       "</div>"
      ],
      "text/plain": [
       "         date  product_identifier  department_identifier  \\\n",
       "0  2012-01-01                  74                     11   \n",
       "1  2012-01-01                 337                     11   \n",
       "2  2012-01-01                 423                     12   \n",
       "3  2012-01-01                 432                     12   \n",
       "4  2012-01-01                 581                     21   \n",
       "\n",
       "          category_of_product  outlet        state  sales  week_id  sell_price  \n",
       "0                      others     111  Maharashtra      0       49        2.94  \n",
       "1                      others     111  Maharashtra      1       49        7.44  \n",
       "2                      others     111  Maharashtra      0       49        0.97  \n",
       "3                      others     111  Maharashtra      0       49        4.97  \n",
       "4  fast_moving_consumer_goods     111  Maharashtra      0       49        4.88  "
      ]
     },
     "execution_count": 191,
     "metadata": {},
     "output_type": "execute_result"
    }
   ],
   "source": [
    "df.head()"
   ]
  },
  {
   "cell_type": "code",
   "execution_count": 192,
   "id": "38f1694f",
   "metadata": {},
   "outputs": [],
   "source": [
    "df['year'] = df['date'].apply(lambda x: int(x.split('-')[0]))\n",
    "df['month'] = df['date'].apply(lambda x: int(x.split('-')[1]))\n",
    "df['days'] = df['date'].apply(lambda x: int(x.split('-')[2]))\n",
    "df.drop('date',axis=1,inplace=True)\n",
    "\n",
    "labelencoder=LabelEncoder()\n",
    "\n",
    "df['category_of_product']=labelencoder.fit_transform(df['category_of_product'])\n",
    "df['state']=labelencoder.fit_transform(df['state'])"
   ]
  },
  {
   "cell_type": "code",
   "execution_count": 193,
   "id": "672249dc",
   "metadata": {},
   "outputs": [
    {
     "data": {
      "text/plain": [
       "(395000, 11)"
      ]
     },
     "execution_count": 193,
     "metadata": {},
     "output_type": "execute_result"
    }
   ],
   "source": [
    "df.shape"
   ]
  },
  {
   "cell_type": "code",
   "execution_count": 194,
   "id": "21b18fa9",
   "metadata": {},
   "outputs": [
    {
     "data": {
      "text/html": [
       "<div>\n",
       "<style scoped>\n",
       "    .dataframe tbody tr th:only-of-type {\n",
       "        vertical-align: middle;\n",
       "    }\n",
       "\n",
       "    .dataframe tbody tr th {\n",
       "        vertical-align: top;\n",
       "    }\n",
       "\n",
       "    .dataframe thead th {\n",
       "        text-align: right;\n",
       "    }\n",
       "</style>\n",
       "<table border=\"1\" class=\"dataframe\">\n",
       "  <thead>\n",
       "    <tr style=\"text-align: right;\">\n",
       "      <th></th>\n",
       "      <th>product_identifier</th>\n",
       "      <th>department_identifier</th>\n",
       "      <th>category_of_product</th>\n",
       "      <th>outlet</th>\n",
       "      <th>state</th>\n",
       "      <th>sales</th>\n",
       "      <th>week_id</th>\n",
       "      <th>sell_price</th>\n",
       "      <th>year</th>\n",
       "      <th>month</th>\n",
       "      <th>days</th>\n",
       "    </tr>\n",
       "  </thead>\n",
       "  <tbody>\n",
       "    <tr>\n",
       "      <th>0</th>\n",
       "      <td>74</td>\n",
       "      <td>11</td>\n",
       "      <td>2</td>\n",
       "      <td>111</td>\n",
       "      <td>1</td>\n",
       "      <td>0</td>\n",
       "      <td>49</td>\n",
       "      <td>2.94</td>\n",
       "      <td>2012</td>\n",
       "      <td>1</td>\n",
       "      <td>1</td>\n",
       "    </tr>\n",
       "    <tr>\n",
       "      <th>1</th>\n",
       "      <td>337</td>\n",
       "      <td>11</td>\n",
       "      <td>2</td>\n",
       "      <td>111</td>\n",
       "      <td>1</td>\n",
       "      <td>1</td>\n",
       "      <td>49</td>\n",
       "      <td>7.44</td>\n",
       "      <td>2012</td>\n",
       "      <td>1</td>\n",
       "      <td>1</td>\n",
       "    </tr>\n",
       "    <tr>\n",
       "      <th>2</th>\n",
       "      <td>423</td>\n",
       "      <td>12</td>\n",
       "      <td>2</td>\n",
       "      <td>111</td>\n",
       "      <td>1</td>\n",
       "      <td>0</td>\n",
       "      <td>49</td>\n",
       "      <td>0.97</td>\n",
       "      <td>2012</td>\n",
       "      <td>1</td>\n",
       "      <td>1</td>\n",
       "    </tr>\n",
       "    <tr>\n",
       "      <th>3</th>\n",
       "      <td>432</td>\n",
       "      <td>12</td>\n",
       "      <td>2</td>\n",
       "      <td>111</td>\n",
       "      <td>1</td>\n",
       "      <td>0</td>\n",
       "      <td>49</td>\n",
       "      <td>4.97</td>\n",
       "      <td>2012</td>\n",
       "      <td>1</td>\n",
       "      <td>1</td>\n",
       "    </tr>\n",
       "    <tr>\n",
       "      <th>4</th>\n",
       "      <td>581</td>\n",
       "      <td>21</td>\n",
       "      <td>1</td>\n",
       "      <td>111</td>\n",
       "      <td>1</td>\n",
       "      <td>0</td>\n",
       "      <td>49</td>\n",
       "      <td>4.88</td>\n",
       "      <td>2012</td>\n",
       "      <td>1</td>\n",
       "      <td>1</td>\n",
       "    </tr>\n",
       "  </tbody>\n",
       "</table>\n",
       "</div>"
      ],
      "text/plain": [
       "   product_identifier  department_identifier  category_of_product  outlet  \\\n",
       "0                  74                     11                    2     111   \n",
       "1                 337                     11                    2     111   \n",
       "2                 423                     12                    2     111   \n",
       "3                 432                     12                    2     111   \n",
       "4                 581                     21                    1     111   \n",
       "\n",
       "   state  sales  week_id  sell_price  year  month  days  \n",
       "0      1      0       49        2.94  2012      1     1  \n",
       "1      1      1       49        7.44  2012      1     1  \n",
       "2      1      0       49        0.97  2012      1     1  \n",
       "3      1      0       49        4.97  2012      1     1  \n",
       "4      1      0       49        4.88  2012      1     1  "
      ]
     },
     "execution_count": 194,
     "metadata": {},
     "output_type": "execute_result"
    }
   ],
   "source": [
    "df.head() "
   ]
  },
  {
   "cell_type": "code",
   "execution_count": 44,
   "id": "3a143a51",
   "metadata": {},
   "outputs": [],
   "source": [
    "df.drop(['department_identifier','year','days'],axis=1,inplace=True)"
   ]
  },
  {
   "cell_type": "code",
   "execution_count": 45,
   "id": "27f7da51",
   "metadata": {},
   "outputs": [
    {
     "data": {
      "text/plain": [
       "Index(['product_identifier', 'category_of_product', 'outlet', 'state', 'sales',\n",
       "       'week_id', 'sell_price', 'month'],\n",
       "      dtype='object')"
      ]
     },
     "execution_count": 45,
     "metadata": {},
     "output_type": "execute_result"
    }
   ],
   "source": [
    "df.columns"
   ]
  },
  {
   "cell_type": "code",
   "execution_count": 197,
   "id": "047698c7",
   "metadata": {},
   "outputs": [],
   "source": [
    "x = df.drop('sales',axis=1)\n",
    "y = df['sales']"
   ]
  },
  {
   "cell_type": "code",
   "execution_count": 198,
   "id": "b6db6b10",
   "metadata": {},
   "outputs": [
    {
     "data": {
      "text/html": [
       "<style>#sk-container-id-2 {color: black;background-color: white;}#sk-container-id-2 pre{padding: 0;}#sk-container-id-2 div.sk-toggleable {background-color: white;}#sk-container-id-2 label.sk-toggleable__label {cursor: pointer;display: block;width: 100%;margin-bottom: 0;padding: 0.3em;box-sizing: border-box;text-align: center;}#sk-container-id-2 label.sk-toggleable__label-arrow:before {content: \"▸\";float: left;margin-right: 0.25em;color: #696969;}#sk-container-id-2 label.sk-toggleable__label-arrow:hover:before {color: black;}#sk-container-id-2 div.sk-estimator:hover label.sk-toggleable__label-arrow:before {color: black;}#sk-container-id-2 div.sk-toggleable__content {max-height: 0;max-width: 0;overflow: hidden;text-align: left;background-color: #f0f8ff;}#sk-container-id-2 div.sk-toggleable__content pre {margin: 0.2em;color: black;border-radius: 0.25em;background-color: #f0f8ff;}#sk-container-id-2 input.sk-toggleable__control:checked~div.sk-toggleable__content {max-height: 200px;max-width: 100%;overflow: auto;}#sk-container-id-2 input.sk-toggleable__control:checked~label.sk-toggleable__label-arrow:before {content: \"▾\";}#sk-container-id-2 div.sk-estimator input.sk-toggleable__control:checked~label.sk-toggleable__label {background-color: #d4ebff;}#sk-container-id-2 div.sk-label input.sk-toggleable__control:checked~label.sk-toggleable__label {background-color: #d4ebff;}#sk-container-id-2 input.sk-hidden--visually {border: 0;clip: rect(1px 1px 1px 1px);clip: rect(1px, 1px, 1px, 1px);height: 1px;margin: -1px;overflow: hidden;padding: 0;position: absolute;width: 1px;}#sk-container-id-2 div.sk-estimator {font-family: monospace;background-color: #f0f8ff;border: 1px dotted black;border-radius: 0.25em;box-sizing: border-box;margin-bottom: 0.5em;}#sk-container-id-2 div.sk-estimator:hover {background-color: #d4ebff;}#sk-container-id-2 div.sk-parallel-item::after {content: \"\";width: 100%;border-bottom: 1px solid gray;flex-grow: 1;}#sk-container-id-2 div.sk-label:hover label.sk-toggleable__label {background-color: #d4ebff;}#sk-container-id-2 div.sk-serial::before {content: \"\";position: absolute;border-left: 1px solid gray;box-sizing: border-box;top: 0;bottom: 0;left: 50%;z-index: 0;}#sk-container-id-2 div.sk-serial {display: flex;flex-direction: column;align-items: center;background-color: white;padding-right: 0.2em;padding-left: 0.2em;position: relative;}#sk-container-id-2 div.sk-item {position: relative;z-index: 1;}#sk-container-id-2 div.sk-parallel {display: flex;align-items: stretch;justify-content: center;background-color: white;position: relative;}#sk-container-id-2 div.sk-item::before, #sk-container-id-2 div.sk-parallel-item::before {content: \"\";position: absolute;border-left: 1px solid gray;box-sizing: border-box;top: 0;bottom: 0;left: 50%;z-index: -1;}#sk-container-id-2 div.sk-parallel-item {display: flex;flex-direction: column;z-index: 1;position: relative;background-color: white;}#sk-container-id-2 div.sk-parallel-item:first-child::after {align-self: flex-end;width: 50%;}#sk-container-id-2 div.sk-parallel-item:last-child::after {align-self: flex-start;width: 50%;}#sk-container-id-2 div.sk-parallel-item:only-child::after {width: 0;}#sk-container-id-2 div.sk-dashed-wrapped {border: 1px dashed gray;margin: 0 0.4em 0.5em 0.4em;box-sizing: border-box;padding-bottom: 0.4em;background-color: white;}#sk-container-id-2 div.sk-label label {font-family: monospace;font-weight: bold;display: inline-block;line-height: 1.2em;}#sk-container-id-2 div.sk-label-container {text-align: center;}#sk-container-id-2 div.sk-container {/* jupyter's `normalize.less` sets `[hidden] { display: none; }` but bootstrap.min.css set `[hidden] { display: none !important; }` so we also need the `!important` here to be able to override the default hidden behavior on the sphinx rendered scikit-learn.org. See: https://github.com/scikit-learn/scikit-learn/issues/21755 */display: inline-block !important;position: relative;}#sk-container-id-2 div.sk-text-repr-fallback {display: none;}</style><div id=\"sk-container-id-2\" class=\"sk-top-container\"><div class=\"sk-text-repr-fallback\"><pre>RandomForestRegressor(n_estimators=180)</pre><b>In a Jupyter environment, please rerun this cell to show the HTML representation or trust the notebook. <br />On GitHub, the HTML representation is unable to render, please try loading this page with nbviewer.org.</b></div><div class=\"sk-container\" hidden><div class=\"sk-item\"><div class=\"sk-estimator sk-toggleable\"><input class=\"sk-toggleable__control sk-hidden--visually\" id=\"sk-estimator-id-2\" type=\"checkbox\" checked><label for=\"sk-estimator-id-2\" class=\"sk-toggleable__label sk-toggleable__label-arrow\">RandomForestRegressor</label><div class=\"sk-toggleable__content\"><pre>RandomForestRegressor(n_estimators=180)</pre></div></div></div></div></div>"
      ],
      "text/plain": [
       "RandomForestRegressor(n_estimators=180)"
      ]
     },
     "execution_count": 198,
     "metadata": {},
     "output_type": "execute_result"
    }
   ],
   "source": [
    "#Again building the model\n",
    "regr = RandomForestRegressor(n_estimators=180)\n",
    "regr.fit(x, y)"
   ]
  },
  {
   "cell_type": "markdown",
   "id": "c3630578",
   "metadata": {},
   "source": [
    "# <center>Getting Feature Importance</center>"
   ]
  },
  {
   "cell_type": "code",
   "execution_count": 199,
   "id": "66ad8857",
   "metadata": {},
   "outputs": [
    {
     "data": {
      "image/png": "[encoded data removed]",
      "text/plain": [
       "<Figure size 432x288 with 1 Axes>"
      ]
     },
     "metadata": {
      "needs_background": "light"
     },
     "output_type": "display_data"
    }
   ],
   "source": [
    "features = x_train.columns\n",
    "importances = regr.feature_importances_\n",
    "indices = np.argsort(importances)\n",
    "\n",
    "plt.title('Feature Importances')\n",
    "plt.barh(range(len(indices)), importances[indices], align='center')\n",
    "plt.yticks(range(len(indices)), [features[i] for i in indices])\n",
    "plt.xlabel('Relative Importance')\n",
    "plt.show()"
   ]
  },
  {
   "cell_type": "markdown",
   "id": "264ddbae",
   "metadata": {},
   "source": [
    "# <center>Predicting on Test dataset</center>"
   ]
  },
  {
   "cell_type": "code",
   "execution_count": 18,
   "id": "0ec178a6",
   "metadata": {},
   "outputs": [],
   "source": [
    "import pandas as pd\n",
    "df_test = pd.read_csv('test_data.csv')"
   ]
  },
  {
   "cell_type": "code",
   "execution_count": 19,
   "id": "dd5b76ac",
   "metadata": {},
   "outputs": [
    {
     "data": {
      "text/html": [
       "<div>\n",
       "<style scoped>\n",
       "    .dataframe tbody tr th:only-of-type {\n",
       "        vertical-align: middle;\n",
       "    }\n",
       "\n",
       "    .dataframe tbody tr th {\n",
       "        vertical-align: top;\n",
       "    }\n",
       "\n",
       "    .dataframe thead th {\n",
       "        text-align: right;\n",
       "    }\n",
       "</style>\n",
       "<table border=\"1\" class=\"dataframe\">\n",
       "  <thead>\n",
       "    <tr style=\"text-align: right;\">\n",
       "      <th></th>\n",
       "      <th>id</th>\n",
       "      <th>date</th>\n",
       "      <th>product_identifier</th>\n",
       "      <th>department_identifier</th>\n",
       "      <th>category_of_product</th>\n",
       "      <th>outlet</th>\n",
       "      <th>state</th>\n",
       "    </tr>\n",
       "  </thead>\n",
       "  <tbody>\n",
       "    <tr>\n",
       "      <th>0</th>\n",
       "      <td>1</td>\n",
       "      <td>2014-03-01</td>\n",
       "      <td>74</td>\n",
       "      <td>11</td>\n",
       "      <td>others</td>\n",
       "      <td>111</td>\n",
       "      <td>Maharashtra</td>\n",
       "    </tr>\n",
       "    <tr>\n",
       "      <th>1</th>\n",
       "      <td>2</td>\n",
       "      <td>2014-03-01</td>\n",
       "      <td>337</td>\n",
       "      <td>11</td>\n",
       "      <td>others</td>\n",
       "      <td>111</td>\n",
       "      <td>Maharashtra</td>\n",
       "    </tr>\n",
       "    <tr>\n",
       "      <th>2</th>\n",
       "      <td>3</td>\n",
       "      <td>2014-03-01</td>\n",
       "      <td>423</td>\n",
       "      <td>12</td>\n",
       "      <td>others</td>\n",
       "      <td>111</td>\n",
       "      <td>Maharashtra</td>\n",
       "    </tr>\n",
       "    <tr>\n",
       "      <th>3</th>\n",
       "      <td>4</td>\n",
       "      <td>2014-03-01</td>\n",
       "      <td>432</td>\n",
       "      <td>12</td>\n",
       "      <td>others</td>\n",
       "      <td>111</td>\n",
       "      <td>Maharashtra</td>\n",
       "    </tr>\n",
       "    <tr>\n",
       "      <th>4</th>\n",
       "      <td>5</td>\n",
       "      <td>2014-03-01</td>\n",
       "      <td>581</td>\n",
       "      <td>21</td>\n",
       "      <td>fast_moving_consumer_goods</td>\n",
       "      <td>111</td>\n",
       "      <td>Maharashtra</td>\n",
       "    </tr>\n",
       "  </tbody>\n",
       "</table>\n",
       "</div>"
      ],
      "text/plain": [
       "   id        date  product_identifier  department_identifier  \\\n",
       "0   1  2014-03-01                  74                     11   \n",
       "1   2  2014-03-01                 337                     11   \n",
       "2   3  2014-03-01                 423                     12   \n",
       "3   4  2014-03-01                 432                     12   \n",
       "4   5  2014-03-01                 581                     21   \n",
       "\n",
       "          category_of_product  outlet        state  \n",
       "0                      others     111  Maharashtra  \n",
       "1                      others     111  Maharashtra  \n",
       "2                      others     111  Maharashtra  \n",
       "3                      others     111  Maharashtra  \n",
       "4  fast_moving_consumer_goods     111  Maharashtra  "
      ]
     },
     "execution_count": 19,
     "metadata": {},
     "output_type": "execute_result"
    }
   ],
   "source": [
    "df_test.head()"
   ]
  },
  {
   "cell_type": "code",
   "execution_count": 20,
   "id": "033ba542",
   "metadata": {},
   "outputs": [],
   "source": [
    "df_temp = df_dw.merge(df_pp, on = \"week_id\", how = \"inner\")\n",
    "df_test=pd.merge(df_test, df_temp, on =['date','product_identifier','outlet'],how = \"inner\")"
   ]
  },
  {
   "cell_type": "code",
   "execution_count": 21,
   "id": "9d101a0a",
   "metadata": {},
   "outputs": [
    {
     "data": {
      "text/html": [
       "<div>\n",
       "<style scoped>\n",
       "    .dataframe tbody tr th:only-of-type {\n",
       "        vertical-align: middle;\n",
       "    }\n",
       "\n",
       "    .dataframe tbody tr th {\n",
       "        vertical-align: top;\n",
       "    }\n",
       "\n",
       "    .dataframe thead th {\n",
       "        text-align: right;\n",
       "    }\n",
       "</style>\n",
       "<table border=\"1\" class=\"dataframe\">\n",
       "  <thead>\n",
       "    <tr style=\"text-align: right;\">\n",
       "      <th></th>\n",
       "      <th>id</th>\n",
       "      <th>date</th>\n",
       "      <th>product_identifier</th>\n",
       "      <th>department_identifier</th>\n",
       "      <th>category_of_product</th>\n",
       "      <th>outlet</th>\n",
       "      <th>state</th>\n",
       "      <th>week_id</th>\n",
       "      <th>sell_price</th>\n",
       "    </tr>\n",
       "  </thead>\n",
       "  <tbody>\n",
       "    <tr>\n",
       "      <th>0</th>\n",
       "      <td>1</td>\n",
       "      <td>2014-03-01</td>\n",
       "      <td>74</td>\n",
       "      <td>11</td>\n",
       "      <td>others</td>\n",
       "      <td>111</td>\n",
       "      <td>Maharashtra</td>\n",
       "      <td>162</td>\n",
       "      <td>3.43</td>\n",
       "    </tr>\n",
       "    <tr>\n",
       "      <th>1</th>\n",
       "      <td>2</td>\n",
       "      <td>2014-03-01</td>\n",
       "      <td>337</td>\n",
       "      <td>11</td>\n",
       "      <td>others</td>\n",
       "      <td>111</td>\n",
       "      <td>Maharashtra</td>\n",
       "      <td>162</td>\n",
       "      <td>7.78</td>\n",
       "    </tr>\n",
       "    <tr>\n",
       "      <th>2</th>\n",
       "      <td>3</td>\n",
       "      <td>2014-03-01</td>\n",
       "      <td>423</td>\n",
       "      <td>12</td>\n",
       "      <td>others</td>\n",
       "      <td>111</td>\n",
       "      <td>Maharashtra</td>\n",
       "      <td>162</td>\n",
       "      <td>0.97</td>\n",
       "    </tr>\n",
       "    <tr>\n",
       "      <th>3</th>\n",
       "      <td>4</td>\n",
       "      <td>2014-03-01</td>\n",
       "      <td>432</td>\n",
       "      <td>12</td>\n",
       "      <td>others</td>\n",
       "      <td>111</td>\n",
       "      <td>Maharashtra</td>\n",
       "      <td>162</td>\n",
       "      <td>4.97</td>\n",
       "    </tr>\n",
       "    <tr>\n",
       "      <th>4</th>\n",
       "      <td>5</td>\n",
       "      <td>2014-03-01</td>\n",
       "      <td>581</td>\n",
       "      <td>21</td>\n",
       "      <td>fast_moving_consumer_goods</td>\n",
       "      <td>111</td>\n",
       "      <td>Maharashtra</td>\n",
       "      <td>162</td>\n",
       "      <td>4.88</td>\n",
       "    </tr>\n",
       "  </tbody>\n",
       "</table>\n",
       "</div>"
      ],
      "text/plain": [
       "   id        date  product_identifier  department_identifier  \\\n",
       "0   1  2014-03-01                  74                     11   \n",
       "1   2  2014-03-01                 337                     11   \n",
       "2   3  2014-03-01                 423                     12   \n",
       "3   4  2014-03-01                 432                     12   \n",
       "4   5  2014-03-01                 581                     21   \n",
       "\n",
       "          category_of_product  outlet        state  week_id  sell_price  \n",
       "0                      others     111  Maharashtra      162        3.43  \n",
       "1                      others     111  Maharashtra      162        7.78  \n",
       "2                      others     111  Maharashtra      162        0.97  \n",
       "3                      others     111  Maharashtra      162        4.97  \n",
       "4  fast_moving_consumer_goods     111  Maharashtra      162        4.88  "
      ]
     },
     "execution_count": 21,
     "metadata": {},
     "output_type": "execute_result"
    }
   ],
   "source": [
    "df_test.head()"
   ]
  },
  {
   "cell_type": "code",
   "execution_count": 22,
   "id": "6c4e7af1",
   "metadata": {},
   "outputs": [],
   "source": [
    "df_test['month'] = df_test['date'].apply(lambda x: int(x.split('-')[1]))\n",
    "df_test['days'] = df_test['date'].apply(lambda x: int(x.split('-')[2]))"
   ]
  },
  {
   "cell_type": "code",
   "execution_count": 23,
   "id": "c4de084d",
   "metadata": {},
   "outputs": [],
   "source": [
    "df_t = df_test"
   ]
  },
  {
   "cell_type": "code",
   "execution_count": 24,
   "id": "ac7b7758",
   "metadata": {},
   "outputs": [],
   "source": [
    "df_test.drop(['id','date','department_identifier','days'],axis=1,inplace=True)"
   ]
  },
  {
   "cell_type": "code",
   "execution_count": 25,
   "id": "2229b9e3",
   "metadata": {},
   "outputs": [
    {
     "data": {
      "text/html": [
       "<div>\n",
       "<style scoped>\n",
       "    .dataframe tbody tr th:only-of-type {\n",
       "        vertical-align: middle;\n",
       "    }\n",
       "\n",
       "    .dataframe tbody tr th {\n",
       "        vertical-align: top;\n",
       "    }\n",
       "\n",
       "    .dataframe thead th {\n",
       "        text-align: right;\n",
       "    }\n",
       "</style>\n",
       "<table border=\"1\" class=\"dataframe\">\n",
       "  <thead>\n",
       "    <tr style=\"text-align: right;\">\n",
       "      <th></th>\n",
       "      <th>product_identifier</th>\n",
       "      <th>category_of_product</th>\n",
       "      <th>outlet</th>\n",
       "      <th>state</th>\n",
       "      <th>week_id</th>\n",
       "      <th>sell_price</th>\n",
       "      <th>month</th>\n",
       "    </tr>\n",
       "  </thead>\n",
       "  <tbody>\n",
       "    <tr>\n",
       "      <th>0</th>\n",
       "      <td>74</td>\n",
       "      <td>others</td>\n",
       "      <td>111</td>\n",
       "      <td>Maharashtra</td>\n",
       "      <td>162</td>\n",
       "      <td>3.43</td>\n",
       "      <td>3</td>\n",
       "    </tr>\n",
       "    <tr>\n",
       "      <th>1</th>\n",
       "      <td>337</td>\n",
       "      <td>others</td>\n",
       "      <td>111</td>\n",
       "      <td>Maharashtra</td>\n",
       "      <td>162</td>\n",
       "      <td>7.78</td>\n",
       "      <td>3</td>\n",
       "    </tr>\n",
       "    <tr>\n",
       "      <th>2</th>\n",
       "      <td>423</td>\n",
       "      <td>others</td>\n",
       "      <td>111</td>\n",
       "      <td>Maharashtra</td>\n",
       "      <td>162</td>\n",
       "      <td>0.97</td>\n",
       "      <td>3</td>\n",
       "    </tr>\n",
       "    <tr>\n",
       "      <th>3</th>\n",
       "      <td>432</td>\n",
       "      <td>others</td>\n",
       "      <td>111</td>\n",
       "      <td>Maharashtra</td>\n",
       "      <td>162</td>\n",
       "      <td>4.97</td>\n",
       "      <td>3</td>\n",
       "    </tr>\n",
       "    <tr>\n",
       "      <th>4</th>\n",
       "      <td>581</td>\n",
       "      <td>fast_moving_consumer_goods</td>\n",
       "      <td>111</td>\n",
       "      <td>Maharashtra</td>\n",
       "      <td>162</td>\n",
       "      <td>4.88</td>\n",
       "      <td>3</td>\n",
       "    </tr>\n",
       "  </tbody>\n",
       "</table>\n",
       "</div>"
      ],
      "text/plain": [
       "   product_identifier         category_of_product  outlet        state  \\\n",
       "0                  74                      others     111  Maharashtra   \n",
       "1                 337                      others     111  Maharashtra   \n",
       "2                 423                      others     111  Maharashtra   \n",
       "3                 432                      others     111  Maharashtra   \n",
       "4                 581  fast_moving_consumer_goods     111  Maharashtra   \n",
       "\n",
       "   week_id  sell_price  month  \n",
       "0      162        3.43      3  \n",
       "1      162        7.78      3  \n",
       "2      162        0.97      3  \n",
       "3      162        4.97      3  \n",
       "4      162        4.88      3  "
      ]
     },
     "execution_count": 25,
     "metadata": {},
     "output_type": "execute_result"
    }
   ],
   "source": [
    "df_test.head()"
   ]
  },
  {
   "cell_type": "code",
   "execution_count": 27,
   "id": "21edd416",
   "metadata": {},
   "outputs": [],
   "source": [
    "from sklearn.preprocessing import LabelEncoder\n",
    "labelencoder=LabelEncoder()\n",
    "df_test['category_of_product']=labelencoder.fit_transform(df_test['category_of_product'])\n",
    "df_test['state']=labelencoder.fit_transform(df_test['state'])"
   ]
  },
  {
   "cell_type": "code",
   "execution_count": 28,
   "id": "fcf4dab9",
   "metadata": {},
   "outputs": [
    {
     "name": "stdout",
     "output_type": "stream",
     "text": [
      "<class 'pandas.core.frame.DataFrame'>\n",
      "Int64Index: 15500 entries, 0 to 15499\n",
      "Data columns (total 7 columns):\n",
      " #   Column               Non-Null Count  Dtype  \n",
      "---  ------               --------------  -----  \n",
      " 0   product_identifier   15500 non-null  int64  \n",
      " 1   category_of_product  15500 non-null  int32  \n",
      " 2   outlet               15500 non-null  int64  \n",
      " 3   state                15500 non-null  int32  \n",
      " 4   week_id              15500 non-null  int64  \n",
      " 5   sell_price           15500 non-null  float64\n",
      " 6   month                15500 non-null  int64  \n",
      "dtypes: float64(1), int32(2), int64(4)\n",
      "memory usage: 847.7 KB\n"
     ]
    }
   ],
   "source": [
    "df_test.info()"
   ]
  },
  {
   "cell_type": "code",
   "execution_count": 29,
   "id": "39b68fad",
   "metadata": {},
   "outputs": [],
   "source": [
    "import joblib\n",
    "joblib.dump(regr, 'sooryar.pkl')"
   ]
  },
  {
   "cell_type": "code",
   "execution_count": 33,
   "id": "d6cc6b5f",
   "metadata": {},
   "outputs": [],
   "source": [
    "regr = joblib.load('sooryar.pkl')"
   ]
  },
  {
   "cell_type": "code",
   "execution_count": 30,
   "id": "1d148eb5",
   "metadata": {},
   "outputs": [
    {
     "data": {
      "text/html": [
       "<div>\n",
       "<style scoped>\n",
       "    .dataframe tbody tr th:only-of-type {\n",
       "        vertical-align: middle;\n",
       "    }\n",
       "\n",
       "    .dataframe tbody tr th {\n",
       "        vertical-align: top;\n",
       "    }\n",
       "\n",
       "    .dataframe thead th {\n",
       "        text-align: right;\n",
       "    }\n",
       "</style>\n",
       "<table border=\"1\" class=\"dataframe\">\n",
       "  <thead>\n",
       "    <tr style=\"text-align: right;\">\n",
       "      <th></th>\n",
       "      <th>product_identifier</th>\n",
       "      <th>category_of_product</th>\n",
       "      <th>outlet</th>\n",
       "      <th>state</th>\n",
       "      <th>week_id</th>\n",
       "      <th>sell_price</th>\n",
       "      <th>month</th>\n",
       "    </tr>\n",
       "  </thead>\n",
       "  <tbody>\n",
       "    <tr>\n",
       "      <th>0</th>\n",
       "      <td>74</td>\n",
       "      <td>2</td>\n",
       "      <td>111</td>\n",
       "      <td>1</td>\n",
       "      <td>162</td>\n",
       "      <td>3.43</td>\n",
       "      <td>3</td>\n",
       "    </tr>\n",
       "    <tr>\n",
       "      <th>1</th>\n",
       "      <td>337</td>\n",
       "      <td>2</td>\n",
       "      <td>111</td>\n",
       "      <td>1</td>\n",
       "      <td>162</td>\n",
       "      <td>7.78</td>\n",
       "      <td>3</td>\n",
       "    </tr>\n",
       "    <tr>\n",
       "      <th>2</th>\n",
       "      <td>423</td>\n",
       "      <td>2</td>\n",
       "      <td>111</td>\n",
       "      <td>1</td>\n",
       "      <td>162</td>\n",
       "      <td>0.97</td>\n",
       "      <td>3</td>\n",
       "    </tr>\n",
       "    <tr>\n",
       "      <th>3</th>\n",
       "      <td>432</td>\n",
       "      <td>2</td>\n",
       "      <td>111</td>\n",
       "      <td>1</td>\n",
       "      <td>162</td>\n",
       "      <td>4.97</td>\n",
       "      <td>3</td>\n",
       "    </tr>\n",
       "    <tr>\n",
       "      <th>4</th>\n",
       "      <td>581</td>\n",
       "      <td>1</td>\n",
       "      <td>111</td>\n",
       "      <td>1</td>\n",
       "      <td>162</td>\n",
       "      <td>4.88</td>\n",
       "      <td>3</td>\n",
       "    </tr>\n",
       "    <tr>\n",
       "      <th>...</th>\n",
       "      <td>...</td>\n",
       "      <td>...</td>\n",
       "      <td>...</td>\n",
       "      <td>...</td>\n",
       "      <td>...</td>\n",
       "      <td>...</td>\n",
       "      <td>...</td>\n",
       "    </tr>\n",
       "    <tr>\n",
       "      <th>15495</th>\n",
       "      <td>2932</td>\n",
       "      <td>0</td>\n",
       "      <td>333</td>\n",
       "      <td>0</td>\n",
       "      <td>166</td>\n",
       "      <td>2.78</td>\n",
       "      <td>3</td>\n",
       "    </tr>\n",
       "    <tr>\n",
       "      <th>15496</th>\n",
       "      <td>2935</td>\n",
       "      <td>0</td>\n",
       "      <td>333</td>\n",
       "      <td>0</td>\n",
       "      <td>166</td>\n",
       "      <td>0.20</td>\n",
       "      <td>3</td>\n",
       "    </tr>\n",
       "    <tr>\n",
       "      <th>15497</th>\n",
       "      <td>3004</td>\n",
       "      <td>0</td>\n",
       "      <td>333</td>\n",
       "      <td>0</td>\n",
       "      <td>166</td>\n",
       "      <td>2.68</td>\n",
       "      <td>3</td>\n",
       "    </tr>\n",
       "    <tr>\n",
       "      <th>15498</th>\n",
       "      <td>3008</td>\n",
       "      <td>0</td>\n",
       "      <td>333</td>\n",
       "      <td>0</td>\n",
       "      <td>166</td>\n",
       "      <td>1.98</td>\n",
       "      <td>3</td>\n",
       "    </tr>\n",
       "    <tr>\n",
       "      <th>15499</th>\n",
       "      <td>3021</td>\n",
       "      <td>0</td>\n",
       "      <td>333</td>\n",
       "      <td>0</td>\n",
       "      <td>166</td>\n",
       "      <td>2.08</td>\n",
       "      <td>3</td>\n",
       "    </tr>\n",
       "  </tbody>\n",
       "</table>\n",
       "<p>15500 rows × 7 columns</p>\n",
       "</div>"
      ],
      "text/plain": [
       "       product_identifier  category_of_product  outlet  state  week_id  \\\n",
       "0                      74                    2     111      1      162   \n",
       "1                     337                    2     111      1      162   \n",
       "2                     423                    2     111      1      162   \n",
       "3                     432                    2     111      1      162   \n",
       "4                     581                    1     111      1      162   \n",
       "...                   ...                  ...     ...    ...      ...   \n",
       "15495                2932                    0     333      0      166   \n",
       "15496                2935                    0     333      0      166   \n",
       "15497                3004                    0     333      0      166   \n",
       "15498                3008                    0     333      0      166   \n",
       "15499                3021                    0     333      0      166   \n",
       "\n",
       "       sell_price  month  \n",
       "0            3.43      3  \n",
       "1            7.78      3  \n",
       "2            0.97      3  \n",
       "3            4.97      3  \n",
       "4            4.88      3  \n",
       "...           ...    ...  \n",
       "15495        2.78      3  \n",
       "15496        0.20      3  \n",
       "15497        2.68      3  \n",
       "15498        1.98      3  \n",
       "15499        2.08      3  \n",
       "\n",
       "[15500 rows x 7 columns]"
      ]
     },
     "execution_count": 30,
     "metadata": {},
     "output_type": "execute_result"
    }
   ],
   "source": [
    "df_test"
   ]
  },
  {
   "cell_type": "code",
   "execution_count": 34,
   "id": "7ed1690b",
   "metadata": {},
   "outputs": [],
   "source": [
    "f_pred = regr.predict(df_test)"
   ]
  },
  {
   "cell_type": "code",
   "execution_count": 35,
   "id": "68f7945b",
   "metadata": {},
   "outputs": [
    {
     "data": {
      "text/plain": [
       "array([0.13806868, 0.74067798, 0.09888889, ..., 0.        , 1.27205845,\n",
       "       0.00925926])"
      ]
     },
     "execution_count": 35,
     "metadata": {},
     "output_type": "execute_result"
    }
   ],
   "source": [
    "f_pred"
   ]
  },
  {
   "cell_type": "code",
   "execution_count": 49,
   "id": "63d608be",
   "metadata": {},
   "outputs": [
    {
     "data": {
      "text/plain": [
       "0.6006785659912768"
      ]
     },
     "execution_count": 49,
     "metadata": {},
     "output_type": "execute_result"
    }
   ],
   "source": [
    "regr.score(x_train,y_train)"
   ]
  },
  {
   "cell_type": "code",
   "execution_count": 50,
   "id": "cf46dd4c",
   "metadata": {},
   "outputs": [
    {
     "data": {
      "text/plain": [
       "0.5516323660113978"
      ]
     },
     "execution_count": 50,
     "metadata": {},
     "output_type": "execute_result"
    }
   ],
   "source": [
    "regr.score(x_test,y_test)"
   ]
  },
  {
   "cell_type": "code",
   "execution_count": 53,
   "id": "453cfd0f",
   "metadata": {},
   "outputs": [],
   "source": [
    "y_pred = regr.predict(x_test)"
   ]
  },
  {
   "cell_type": "code",
   "execution_count": 54,
   "id": "a8f305be",
   "metadata": {},
   "outputs": [
    {
     "name": "stdout",
     "output_type": "stream",
     "text": [
      "RMSE : 2.2740119439437443\n",
      "r2 score:  0.5516323660113978\n"
     ]
    }
   ],
   "source": [
    "print('RMSE :',mean_squared_error(y_test, y_pred,squared=False))\n",
    "print('r2 score: ', r2_score(y_test, y_pred))"
   ]
  },
  {
   "cell_type": "code",
   "execution_count": 219,
   "id": "8dabd797",
   "metadata": {},
   "outputs": [],
   "source": [
    "#coverting the predictions to csv format\n",
    "prediction=pd.DataFrame(f_pred,columns=['sales']).to_csv('predictions.csv')"
   ]
  },
  {
   "cell_type": "code",
   "execution_count": 220,
   "id": "9cb1f114",
   "metadata": {},
   "outputs": [
    {
     "data": {
      "text/plain": [
       "0    1\n",
       "1    2\n",
       "2    3\n",
       "3    4\n",
       "4    5\n",
       "Name: id, dtype: int64"
      ]
     },
     "execution_count": 220,
     "metadata": {},
     "output_type": "execute_result"
    }
   ],
   "source": [
    "df_test = pd.read_csv('test_data.csv')\n",
    "newdf1=df_test['id']\n",
    "newdf1.head()"
   ]
  },
  {
   "cell_type": "code",
   "execution_count": 221,
   "id": "66cedd66",
   "metadata": {},
   "outputs": [
    {
     "data": {
      "text/plain": [
       "(15500,)"
      ]
     },
     "execution_count": 221,
     "metadata": {},
     "output_type": "execute_result"
    }
   ],
   "source": [
    "newdf1.shape"
   ]
  },
  {
   "cell_type": "code",
   "execution_count": 222,
   "id": "07d8f072",
   "metadata": {},
   "outputs": [
    {
     "data": {
      "text/html": [
       "<div>\n",
       "<style scoped>\n",
       "    .dataframe tbody tr th:only-of-type {\n",
       "        vertical-align: middle;\n",
       "    }\n",
       "\n",
       "    .dataframe tbody tr th {\n",
       "        vertical-align: top;\n",
       "    }\n",
       "\n",
       "    .dataframe thead th {\n",
       "        text-align: right;\n",
       "    }\n",
       "</style>\n",
       "<table border=\"1\" class=\"dataframe\">\n",
       "  <thead>\n",
       "    <tr style=\"text-align: right;\">\n",
       "      <th></th>\n",
       "      <th>0</th>\n",
       "    </tr>\n",
       "  </thead>\n",
       "  <tbody>\n",
       "    <tr>\n",
       "      <th>0</th>\n",
       "      <td>0.138069</td>\n",
       "    </tr>\n",
       "    <tr>\n",
       "      <th>1</th>\n",
       "      <td>0.740678</td>\n",
       "    </tr>\n",
       "    <tr>\n",
       "      <th>2</th>\n",
       "      <td>0.098889</td>\n",
       "    </tr>\n",
       "    <tr>\n",
       "      <th>3</th>\n",
       "      <td>0.000000</td>\n",
       "    </tr>\n",
       "    <tr>\n",
       "      <th>4</th>\n",
       "      <td>2.105015</td>\n",
       "    </tr>\n",
       "  </tbody>\n",
       "</table>\n",
       "</div>"
      ],
      "text/plain": [
       "          0\n",
       "0  0.138069\n",
       "1  0.740678\n",
       "2  0.098889\n",
       "3  0.000000\n",
       "4  2.105015"
      ]
     },
     "execution_count": 222,
     "metadata": {},
     "output_type": "execute_result"
    }
   ],
   "source": [
    "newdf2=pd.DataFrame(f_pred)\n",
    "newdf2.head()"
   ]
  },
  {
   "cell_type": "code",
   "execution_count": 223,
   "id": "974efb52",
   "metadata": {},
   "outputs": [
    {
     "data": {
      "text/plain": [
       "(15500, 1)"
      ]
     },
     "execution_count": 223,
     "metadata": {},
     "output_type": "execute_result"
    }
   ],
   "source": [
    "newdf2.shape"
   ]
  },
  {
   "cell_type": "code",
   "execution_count": 224,
   "id": "27d4d575",
   "metadata": {},
   "outputs": [],
   "source": [
    "prediction=pd.concat([newdf1,newdf2],axis=1)"
   ]
  },
  {
   "cell_type": "code",
   "execution_count": 225,
   "id": "7d6b985c",
   "metadata": {},
   "outputs": [
    {
     "data": {
      "text/html": [
       "<div>\n",
       "<style scoped>\n",
       "    .dataframe tbody tr th:only-of-type {\n",
       "        vertical-align: middle;\n",
       "    }\n",
       "\n",
       "    .dataframe tbody tr th {\n",
       "        vertical-align: top;\n",
       "    }\n",
       "\n",
       "    .dataframe thead th {\n",
       "        text-align: right;\n",
       "    }\n",
       "</style>\n",
       "<table border=\"1\" class=\"dataframe\">\n",
       "  <thead>\n",
       "    <tr style=\"text-align: right;\">\n",
       "      <th></th>\n",
       "      <th>id</th>\n",
       "      <th>0</th>\n",
       "    </tr>\n",
       "  </thead>\n",
       "  <tbody>\n",
       "    <tr>\n",
       "      <th>0</th>\n",
       "      <td>1</td>\n",
       "      <td>0.138069</td>\n",
       "    </tr>\n",
       "    <tr>\n",
       "      <th>1</th>\n",
       "      <td>2</td>\n",
       "      <td>0.740678</td>\n",
       "    </tr>\n",
       "    <tr>\n",
       "      <th>2</th>\n",
       "      <td>3</td>\n",
       "      <td>0.098889</td>\n",
       "    </tr>\n",
       "    <tr>\n",
       "      <th>3</th>\n",
       "      <td>4</td>\n",
       "      <td>0.000000</td>\n",
       "    </tr>\n",
       "    <tr>\n",
       "      <th>4</th>\n",
       "      <td>5</td>\n",
       "      <td>2.105015</td>\n",
       "    </tr>\n",
       "    <tr>\n",
       "      <th>...</th>\n",
       "      <td>...</td>\n",
       "      <td>...</td>\n",
       "    </tr>\n",
       "    <tr>\n",
       "      <th>15495</th>\n",
       "      <td>15496</td>\n",
       "      <td>1.472768</td>\n",
       "    </tr>\n",
       "    <tr>\n",
       "      <th>15496</th>\n",
       "      <td>15497</td>\n",
       "      <td>10.939006</td>\n",
       "    </tr>\n",
       "    <tr>\n",
       "      <th>15497</th>\n",
       "      <td>15498</td>\n",
       "      <td>0.000000</td>\n",
       "    </tr>\n",
       "    <tr>\n",
       "      <th>15498</th>\n",
       "      <td>15499</td>\n",
       "      <td>1.272058</td>\n",
       "    </tr>\n",
       "    <tr>\n",
       "      <th>15499</th>\n",
       "      <td>15500</td>\n",
       "      <td>0.009259</td>\n",
       "    </tr>\n",
       "  </tbody>\n",
       "</table>\n",
       "<p>15500 rows × 2 columns</p>\n",
       "</div>"
      ],
      "text/plain": [
       "          id          0\n",
       "0          1   0.138069\n",
       "1          2   0.740678\n",
       "2          3   0.098889\n",
       "3          4   0.000000\n",
       "4          5   2.105015\n",
       "...      ...        ...\n",
       "15495  15496   1.472768\n",
       "15496  15497  10.939006\n",
       "15497  15498   0.000000\n",
       "15498  15499   1.272058\n",
       "15499  15500   0.009259\n",
       "\n",
       "[15500 rows x 2 columns]"
      ]
     },
     "execution_count": 225,
     "metadata": {},
     "output_type": "execute_result"
    }
   ],
   "source": [
    "prediction"
   ]
  },
  {
   "cell_type": "code",
   "execution_count": 226,
   "id": "3b9da536",
   "metadata": {},
   "outputs": [],
   "source": [
    "prediction.to_csv('predicted_finals.csv',index=False)"
   ]
  }
 ],
 "metadata": {
  "kernelspec": {
   "display_name": "Python 3 (ipykernel)",
   "language": "python",
   "name": "python3"
  },
  "language_info": {
   "codemirror_mode": {
    "name": "ipython",
    "version": 3
   },
   "file_extension": ".py",
   "mimetype": "text/x-python",
   "name": "python",
   "nbconvert_exporter": "python",
   "pygments_lexer": "ipython3",
   "version": "3.9.12"
  }
 },
 "nbformat": 4,
 "nbformat_minor": 5
}
